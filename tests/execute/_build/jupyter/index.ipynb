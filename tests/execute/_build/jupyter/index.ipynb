{
 "cells": [],
 "metadata": {
  "date": 1574906057.3660846,
  "filename": "index.rst",
  "kernelspec": {
   "display_name": "Python",
   "language": "python3",
   "name": "python3"
  },
  "title": "Welcome to sphinxcontrib-jupyter.minimal’s documentation!"
 },
 "nbformat": 4,
 "nbformat_minor": 2
}