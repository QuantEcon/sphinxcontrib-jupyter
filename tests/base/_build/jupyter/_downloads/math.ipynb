{
 "cells": [
  {
   "cell_type": "markdown",
   "metadata": {},
   "source": [
    "# Math\n",
    "\n",
    "Inline maths with inline role: $ x^3+\\frac{1+\\sqrt{2}}{\\pi} $\n",
    "\n",
    "Inline maths using dollar signs (not supported yet): \\$x^3+frac{1+sqrt{2}}{pi}\\$ as the\n",
    "backslashes are removed.\n",
    "\n",
    "$$\n",
    "x^3+\\frac{1+\\sqrt{2}}{\\pi}\n",
    "$$\n",
    "\n",
    "check math with some more advanced LaTeX, previously reported as an issue.\n",
    "\n",
    "$$\n",
    "\\mathbb P\\{z = v \\mid x \\}\n",
    "= \\begin{cases}\n",
    "    f_0(v) & \\mbox{if } x = x_0, \\\\\n",
    "    f_1(v) & \\mbox{if } x = x_1\n",
    "\\end{cases}\n",
    "$$\n",
    "\n",
    "and labeled test cases\n",
    "\n",
    "\n",
    "<a id='equation-firsteq'></a>\n",
    "$$\n",
    "\\mathbb P\\{z = v \\mid x \\}\n",
    " = \\begin{cases}\n",
    "     f_0(v) & \\mbox{if } x = x_0, \\\\\n",
    "     f_1(v) & \\mbox{if } x = x_1\n",
    " \\end{cases} \\tag{1}\n",
    "$$"
   ]
  },
  {
   "cell_type": "markdown",
   "metadata": {},
   "source": [
    "# Further Inline\n",
    "\n",
    "A continuation Ramsey planner at $ t \\geq 1 $ takes\n",
    "$ (x_{t-1}, s_{t-1}) = (x_-, s_-) $ as given and before\n",
    "$ s $ is realized chooses\n",
    "$ (n_t(s_t), x_t(s_t)) = (n(s), x(s)) $ for $ s \\in  {\\cal S} $"
   ]
  },
  {
   "cell_type": "markdown",
   "metadata": {},
   "source": [
    "# Referenced Math\n",
    "\n",
    "Simple test case with reference in text\n",
    "\n",
    "\n",
    "<a id='equation-test'></a>\n",
    "$$\n",
    "v = p + \\beta v \\tag{2}\n",
    "$$\n",
    "\n",
    "this is a reference to [(2)](#equation-test) which is the above equation"
   ]
  }
 ],
 "metadata": {
  "filename": "math.rst",
  "kernelspec": {
   "display_name": "Python",
   "language": "python3",
   "name": "python3"
  },
  "title": "Math"
 },
 "nbformat": 4,
 "nbformat_minor": 2
}