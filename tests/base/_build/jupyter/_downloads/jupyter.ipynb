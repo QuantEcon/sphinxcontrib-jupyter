{
 "cells": [
  {
   "cell_type": "markdown",
   "metadata": {},
   "source": [
    "# Jupyter Directive\n",
    "\n",
    "This is a set of tests related to the Jupyter directive\n",
    "\n",
    "The following jupyter directive with cell-break option should\n",
    "split this text and the text that follows into different IN\n",
    "blocks in the notebook"
   ]
  },
  {
   "cell_type": "markdown",
   "metadata": {},
   "source": [
    "This text should follow in a separate cell."
   ]
  }
 ],
 "metadata": {
  "filename": "jupyter.rst",
  "kernelspec": {
   "display_name": "Python",
   "language": "python3",
   "name": "python3"
  },
  "title": "Jupyter Directive"
 },
 "nbformat": 4,
 "nbformat_minor": 2
}