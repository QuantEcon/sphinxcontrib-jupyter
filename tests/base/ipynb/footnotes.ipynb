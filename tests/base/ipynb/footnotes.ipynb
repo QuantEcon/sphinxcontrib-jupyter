{
 "cells": [
  {
   "cell_type": "markdown",
   "metadata": {},
   "source": [
    "# Rubric\n",
    "\n",
    "Define the government’s one-period loss function <sup>[1](#f1)</sup>\n",
    "\n",
    "\n",
    "<a id='equation-target'></a>\n",
    "$$\n",
    "r(y, u)  =  y' R y  + u' Q u \\tag{1}\n",
    "$$\n",
    "\n",
    "History dependence has two sources: (a) the government’s ability to commit <sup>[2](#f2)</sup> to a sequence of rules at time $ 0 $"
   ]
  },
  {
   "cell_type": "markdown",
   "metadata": {},
   "source": [
    "**Footnotes**\n",
    "\n",
    "<a id='f1'></a>\n",
    "**[1]** The problem assumes that there are no cross products between states and controls in the return function.  A simple transformation  converts a problem whose return function has cross products into an equivalent problem that has no cross products.\n",
    "\n",
    "<a id='f2'></a>\n",
    "**[2]** The government would make different choices were it to choose sequentially, that is,  were it to select its time $ t $ action at time $ t $."
   ]
  }
 ],
 "metadata": {
  "filename": "footnotes.rst",
  "kernelspec": {
   "display_name": "Python",
   "language": "python3",
   "name": "python3"
  },
  "title": "Rubric"
 },
 "nbformat": 4,
 "nbformat_minor": 4
}