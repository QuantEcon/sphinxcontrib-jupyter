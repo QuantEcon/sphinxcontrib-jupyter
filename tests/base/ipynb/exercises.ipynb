{
 "cells": [
  {
   "cell_type": "markdown",
   "metadata": {},
   "source": [
    "# Exercises\n",
    "\n",
    "This notebook tests the new exercise directive defined in this package\n",
    "\n",
    "<blockquote>\n",
    "\n",
    "**Check for understanding**\n",
    "\n",
    "This is a check for understanding exercise\n",
    "\n",
    "This is a note that has some *italic* and **bold** embedded\n",
    "\n",
    "- list  \n",
    "- in  \n",
    "- exercise  \n",
    "\n",
    "\n",
    "\n",
    "\n",
    "```python\n",
    "def foobar(x, y, z):\n",
    "   print(x, y, z)\n",
    "```\n",
    "And text after the code block\n",
    "\n",
    "below is something that should be a real code block\n",
    "\n",
    "\n",
    "</blockquote>"
   ]
  },
  {
   "cell_type": "code",
   "execution_count": null,
   "metadata": {
    "hide-output": false
   },
   "outputs": [],
   "source": [
    "def foobar(x, y, z):\n",
    "   print(x, y, z)"
   ]
  },
  {
   "cell_type": "markdown",
   "metadata": {},
   "source": [
    "<blockquote>\n",
    "And text to follow\n",
    "\n",
    "\n",
    "</blockquote>"
   ]
  },
  {
   "cell_type": "markdown",
   "metadata": {},
   "source": [
    "text in between exercise\n",
    "\n",
    "<blockquote>\n",
    "\n",
    "**Exercise**\n",
    "\n",
    "This is a normal exercise\n",
    "\n",
    "\n",
    "</blockquote>"
   ]
  }
 ],
 "metadata": {
  "filename": "exercises.rst",
  "kernelspec": {
   "display_name": "Python 3",
   "language": "python",
   "name": "python3"
  },
  "language_info": {
   "codemirror_mode": {
    "name": "ipython",
    "version": 3
   },
   "file_extension": ".py",
   "mimetype": "text/x-python",
   "name": "python",
   "nbconvert_exporter": "python",
   "pygments_lexer": "ipython3",
   "version": "3.6.6"
  },
  "title": "Exercises"
 },
 "nbformat": 4,
 "nbformat_minor": 2
}
