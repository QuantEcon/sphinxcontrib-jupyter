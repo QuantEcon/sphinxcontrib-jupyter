{
 "cells": [
  {
   "cell_type": "markdown",
   "metadata": {},
   "source": [
    "# Exercises\n",
    "\n",
    "This notebook tests the new exercise directive defined in this package\n",
    "\n",
    "\n",
    "<a id='exercise-0'></a>\n",
    "**Exercise 1**\n",
    "\n",
    "This is a note that has some _italic_ and **bold** embedded\n",
    "\n",
    "- list  \n",
    "- in  \n",
    "- exercise  "
   ]
  },
  {
   "cell_type": "markdown",
   "metadata": {
    "hide-output": false
   },
   "source": [
    "```python\n",
    "def foobar(x, y, z):\n",
    "   print(x, y, z)\n",
    "```\n"
   ]
  },
  {
   "cell_type": "markdown",
   "metadata": {},
   "source": [
    "And text after the code block\n",
    "\n",
    "below is something that should be a real code block"
   ]
  },
  {
   "cell_type": "code",
   "execution_count": null,
   "metadata": {
    "hide-output": false
   },
   "outputs": [],
   "source": [
    "def foobar(x, y, z):\n",
    "   print(x, y, z)"
   ]
  },
  {
   "cell_type": "markdown",
   "metadata": {},
   "source": [
    "And text to follow\n",
    "\n",
    "text in between exercise\n",
    "\n",
    "\n",
    "<a id='exercise-1'></a>\n",
    "**Exercise 2**\n",
    "\n",
    "This is a normal exercise\n",
    "\n",
    "\n",
    "<a id='exercise-2'></a>\n",
    "**Question 3**\n",
    "\n",
    "I’m a function with a label and a different title\n",
    "\n",
    "Define a function named `var` that takes a list (call it `x`) and\n",
    "computes the variance. This function should use the mean function that we\n",
    "defined earlier.\n",
    "\n",
    "Hint: $ \\text{variance} = \\frac{1}{N} \\sum_i (x_i - \\text{mean}(x))^2 $"
   ]
  },
  {
   "cell_type": "code",
   "execution_count": null,
   "metadata": {
    "hide-output": false
   },
   "outputs": [],
   "source": [
    "# your code here"
   ]
  },
  {
   "cell_type": "markdown",
   "metadata": {},
   "source": [
    "\n",
    "<a id='exercise-3'></a>\n",
    "**Exercise 4**\n",
    "\n",
    "This is another function with a label\n",
    "\n",
    "- and  \n",
    "- *a*  \n",
    "- **list**!  "
   ]
  },
  {
   "cell_type": "markdown",
   "metadata": {},
   "source": [
    "## Collected Exercises\n",
    "\n",
    "Below should not report anything…\n",
    "\n",
    "\n",
    "<a id='exerciselist-0'></a>\n",
    "This, however should repeat exercises from above\n",
    "\n",
    "\n",
    "<a id='exerciselist-1'></a>\n",
    "**Exercise 1**\n",
    "\n",
    "This is a note that has some _italic_ and **bold** embedded\n",
    "\n",
    "- list  \n",
    "- in  \n",
    "- exercise  "
   ]
  },
  {
   "cell_type": "markdown",
   "metadata": {
    "hide-output": false
   },
   "source": [
    "```python\n",
    "def foobar(x, y, z):\n",
    "   print(x, y, z)\n",
    "```\n"
   ]
  },
  {
   "cell_type": "markdown",
   "metadata": {},
   "source": [
    "And text after the code block\n",
    "\n",
    "below is something that should be a real code block"
   ]
  },
  {
   "cell_type": "code",
   "execution_count": null,
   "metadata": {
    "hide-output": false
   },
   "outputs": [],
   "source": [
    "def foobar(x, y, z):\n",
    "   print(x, y, z)"
   ]
  },
  {
   "cell_type": "markdown",
   "metadata": {},
   "source": [
    "And text to follow\n",
    "\n",
    "([*back to text*](#exercise-0))\n",
    "\n",
    "**Exercise 2**\n",
    "\n",
    "This is a normal exercise\n",
    "\n",
    "([*back to text*](#exercise-1))\n",
    "\n",
    "**Question 3**\n",
    "\n",
    "I'm a function with a label and a different title\n",
    "\n",
    "Define a function named `var` that takes a list (call it `x`) and\n",
    "computes the variance. This function should use the mean function that we\n",
    "defined earlier.\n",
    "\n",
    "Hint: $ \\text{variance} = \\frac{1}{N} \\sum_i (x_i - \\text{mean}(x))^2 $"
   ]
  },
  {
   "cell_type": "code",
   "execution_count": null,
   "metadata": {
    "hide-output": false
   },
   "outputs": [],
   "source": [
    "# your code here"
   ]
  },
  {
   "cell_type": "markdown",
   "metadata": {},
   "source": [
    "([*back to text*](#exercise-2))\n",
    "\n",
    "**Exercise 4**\n",
    "\n",
    "This is another function with a label\n",
    "\n",
    "- and  \n",
    "- *a*  \n",
    "- **list**!  \n",
    "\n",
    "\n",
    "([*back to text*](#exercise-3))"
   ]
  }
 ],
 "metadata": {
  "filename": "exercises.rst",
  "kernelspec": {
   "display_name": "Python",
   "language": "python3",
   "name": "python3"
  },
  "title": "Exercises"
 },
 "nbformat": 4,
 "nbformat_minor": 2
}