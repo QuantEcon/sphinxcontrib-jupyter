{
 "cells": [
  {
   "cell_type": "markdown",
   "metadata": {},
   "source": [
    "# Syntax\n",
    "\n",
    "This contains test cases for using special syntax\n",
    "\n",
    "If we use `%` in text:\n",
    "\n",
    "15%\n",
    "\n",
    "and with `\\%`\n",
    "\n",
    "15%\n",
    "\n",
    "IF we use `#` in text:\n",
    "\n",
    "#1\n",
    "\n",
    "and with `\\#`\n",
    "\n",
    "#1\n",
    "\n",
    "If we use `\\$` in text:\n",
    "\n",
    "\\$100,000\n",
    "\n",
    "and with `\\\\$`\n",
    "\n",
    "\\$100,000"
   ]
  }
 ],
 "metadata": {
  "date": 1574991173.427386,
  "filename": "syntax.rst",
  "kernelspec": {
   "display_name": "Python",
   "language": "python3",
   "name": "python3"
  },
  "title": "Syntax"
 },
 "nbformat": 4,
 "nbformat_minor": 2
}