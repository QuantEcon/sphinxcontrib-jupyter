{
 "cells": [
  {
   "cell_type": "markdown",
   "metadata": {},
   "source": [
    "# Notebook without solutions\n",
    "\n",
    "The idea is with the use of classes, we can  decide whether to show or not the solutions\n",
    "of a particular lecture, creating two different types of jupyter notebooks. For now it only\n",
    "works with *code blocks*, you have to include **:class: solution**, and set in  the conf.py file\n",
    "*jupyter_drop_solutions=True*.\n",
    "\n",
    "Here is a small example"
   ]
  },
  {
   "cell_type": "markdown",
   "metadata": {},
   "source": [
    "## Question 1\n",
    "\n",
    "Plot the area under the curve\n",
    "\n",
    "$$\n",
    "f(x)=\\sin(4\\pi x) exp(-5x)\n",
    "$$\n",
    "\n",
    "when $ x \\in [0,1] $"
   ]
  }
 ],
 "metadata": {
  "filename": "solutions.rst",
  "kernelspec": {
   "display_name": "Python",
   "language": "python3",
   "name": "python3"
  },
  "title": "Notebook without solutions"
 },
 "nbformat": 4,
 "nbformat_minor": 4
}