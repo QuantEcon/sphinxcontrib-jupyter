{
 "cells": [
  {
   "cell_type": "markdown",
   "metadata": {},
   "source": [
    "# Images\n",
    "\n",
    "Collection of tests for **.. image::** and **.. figure::** directives"
   ]
  },
  {
   "cell_type": "markdown",
   "metadata": {},
   "source": [
    "## Image\n",
    "\n",
    "[Docutils Reference](http://docutils.sourceforge.net/docs/ref/rst/directives.html#images)\n",
    "\n",
    "Most basic image directive\n",
    "\n",
    "<img src=\"_static/hood.jpg\" style=\"\">\n",
    "\n",
    "A scaled down version with 25 % width\n",
    "\n",
    "<img src=\"_static/hood.jpg\" style=\"width:25%;\">\n",
    "\n",
    "A height of 50px\n",
    "\n",
    "<img src=\"_static/hood.jpg\" style=\"height:50px;\">\n",
    "\n",
    "Including *alt*\n",
    "\n",
    "<img src=\"_static/hood.jpg\" alt=\"A Mountain View\" style=\"\">\n",
    "\n",
    "An image with a *right* alignment\n",
    "\n",
    "<img src=\"_static/hood.jpg\" style=\"width:75%;height:75%\" align=\"right\">\n",
    "\n",
    "An image with a *left* alignment\n",
    "\n",
    "<img src=\"_static/hood.jpg\" style=\"width:50%;height:50%\" align=\"left\">"
   ]
  },
  {
   "cell_type": "markdown",
   "metadata": {},
   "source": [
    "## Figure\n",
    "\n",
    "[Docutils Reference](http://docutils.sourceforge.net/docs/ref/rst/directives.html#figure)\n",
    "\n",
    "Testing the **.. figure::** directive\n",
    "\n",
    "<img src=\"_static/hood.jpg\" style=\"width:50%;height:50%\">"
   ]
  }
 ],
 "metadata": {
  "filename": "images.rst",
  "kernelspec": {
   "display_name": "Python",
   "language": "python3",
   "name": "python3"
  },
  "title": "Images"
 },
 "nbformat": 4,
 "nbformat_minor": 4
}