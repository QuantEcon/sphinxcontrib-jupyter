{
 "cells": [
  {
   "cell_type": "markdown",
   "metadata": {},
   "source": [
    "# Images\n",
    "\n",
    "Collection of tests for **.. image::** and **.. figure::** directives"
   ]
  },
  {
   "cell_type": "markdown",
   "metadata": {},
   "source": [
    "## Image\n",
    "\n",
    "[Docutils Reference](http://docutils.sourceforge.net/docs/ref/rst/directives.html#images)\n",
    "\n",
    "Most basic image directive\n",
    "\n",
    "<img src=\"_images/hood.jpg\" style=\"\">\n",
    "\n",
    "A scaled down version with 25 % width\n",
    "\n",
    "<img src=\"_images/hood.jpg\" style=\"width:25%;\">\n",
    "\n",
    "A height of 50px\n",
    "\n",
    "<img src=\"_images/hood.jpg\" style=\"height:50px;\">\n",
    "\n",
    "Including *alt*\n",
    "\n",
    "<img src=\"_images/hood.jpg\" alt=\"A Mountain View\" style=\"\">\n",
    "\n",
    "An image with a *right* alignment\n",
    "\n",
    "<img src=\"_images/hood.jpg\" style=\"width:75%;height:75%\" align=\"right\">\n",
    "\n",
    "An image with a *left* alignment\n",
    "\n",
    "<img src=\"_images/hood.jpg\" style=\"width:50%;height:50%\" align=\"left\">"
   ]
  },
  {
   "cell_type": "markdown",
   "metadata": {},
   "source": [
    "## Figure\n",
    "\n",
    "[Docutils Reference](http://docutils.sourceforge.net/docs/ref/rst/directives.html#figure)\n",
    "\n",
    "Testing the **.. figure::** directive\n",
    "\n",
    "<img src=\"_images/hood.jpg\" style=\"width:50%;height:50%\">"
   ]
  },
  {
   "cell_type": "markdown",
   "metadata": {},
   "source": [
    "## File Collisions\n",
    "\n",
    "Add a figure of the same name in a different folder\n",
    "\n",
    "Most basic image directive\n",
    "\n",
    "<img src=\"_images/hood-1.jpg\" style=\"\">"
   ]
  },
  {
   "cell_type": "markdown",
   "metadata": {},
   "source": [
    "## Remote Images\n",
    "\n",
    "Adding a test for remote images specified by url\n",
    "\n",
    "<img src=\"https://s3-ap-southeast-2.amazonaws.com/assets.quantecon.org/img/sloan_logo.png\" style=\"\">\n",
    "\n",
    "and using figure directive\n",
    "\n",
    "<img src=\"https://s3-ap-southeast-2.amazonaws.com/assets.quantecon.org/img/sloan_logo.png\" style=\"width:50%;height:50%\">"
   ]
  },
  {
   "cell_type": "markdown",
   "metadata": {},
   "source": [
    "## Supported Image Path Specifications\n",
    "\n",
    "Adding a relative path image reference\n",
    "\n",
    "<img src=\"_images/hood.jpg\" style=\"\">\n",
    "\n",
    "Adding a root level path image reference\n",
    "\n",
    "<img src=\"_images/hood.jpg\" style=\"\">\n",
    "\n",
    "Adding a path to base level _static folder outside of base project folder\n",
    "\n",
    "<img src=\"_images/simple_notebook.png\" style=\"\">"
   ]
  }
 ],
 "metadata": {
  "filename": "images.rst",
  "kernelspec": {
   "display_name": "Python",
   "language": "python3",
   "name": "python3"
  },
  "title": "Images"
 },
 "nbformat": 4,
 "nbformat_minor": 2
}