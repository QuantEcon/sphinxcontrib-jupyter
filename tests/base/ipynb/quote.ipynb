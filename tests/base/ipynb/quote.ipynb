{
 "cells": [
  {
   "cell_type": "markdown",
   "metadata": {},
   "source": [
    "# Quote\n",
    "\n",
    "This is some text\n",
    "\n",
    "> This is a quote!\n",
    "\n",
    "\n",
    "and this is not"
   ]
  },
  {
   "cell_type": "markdown",
   "metadata": {},
   "source": [
    "# Epigraph\n",
    "\n",
    "An epigraph is a special block-quote node\n",
    "\n",
    "> “Debugging is twice as hard as writing the code in the first place.\n",
    "> Therefore, if you write the code as cleverly as possible, you are, by definition,\n",
    "> not smart enough to debug it.”\n",
    ">\n",
    "> Brian Kernighan\n",
    "\n",
    "and one that is technically malformed\n",
    "\n",
    "> “Debugging is twice as hard as writing the code in the first place.\n",
    "> Therefore, if you write the code as cleverly as possible, you are, by definition,\n",
    "> not smart enough to debug it.” – Brian Kernighan\n",
    "\n",
    "\n",
    "with some final text"
   ]
  }
 ],
 "metadata": {
  "filename": "quote.rst",
  "kernelspec": {
   "display_name": "Python",
   "language": "python3",
   "name": "python3"
  },
  "title": "Quote"
 },
 "nbformat": 4,
 "nbformat_minor": 2
}