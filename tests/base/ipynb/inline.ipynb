{
 "cells": [
  {
   "cell_type": "markdown",
   "metadata": {},
   "source": [
    "# Inline\n",
    "\n",
    "A test suite for inline items"
   ]
  },
  {
   "cell_type": "markdown",
   "metadata": {},
   "source": [
    "## Code\n",
    "\n",
    "Here is some inline python `import numpy as np` that should be displayed\n",
    "\n",
    "and some text that is not code `here`"
   ]
  },
  {
   "cell_type": "markdown",
   "metadata": {},
   "source": [
    "## Math\n",
    "\n",
    "Inline maths with inline role: $ x^3+\\frac{1+\\sqrt{2}}{\\pi} $\n",
    "\n",
    "Inline maths using dollar signs (not supported yet): \\$x^3+frac{1+sqrt{2}}{pi}\\$ as the\n",
    "backslashes are removed."
   ]
  }
 ],
 "metadata": {
  "filename": "inline.rst",
  "kernelspec": {
   "display_name": "Python",
   "language": "python3",
   "name": "python3"
  },
  "title": "Inline"
 },
 "nbformat": 4,
 "nbformat_minor": 2
}