{
 "cells": [
  {
   "cell_type": "markdown",
   "metadata": {},
   "source": [
    "$$\n",
    "\\def\\CC{\\bf C}\n",
    "\\def\\QQ{\\bf Q}\n",
    "\\def\\RR{\\bf R}\n",
    "\\def\\ZZ{\\bf Z}\n",
    "\\def\\NN{\\bf N}\n",
    "$$\n",
    "# Math\n",
    "\n",
    "Inline maths with math role: $x^3+\\frac{1+\\sqrt{2}}{\\pi}$\n",
    "\n",
    "Inline maths with default role: $x^3+\\frac{1+\\sqrt{2}}{\\pi}$\n",
    "\n",
    "Inline maths using dollar signs (not supported yet): \\$x^3+frac{1+sqrt{2}}{pi}\\$\n",
    "\n",
    "$$x^3+\\frac{1+\\sqrt{2}}{\\pi}$$"
   ]
  }
 ],
 "metadata": {},
 "nbformat": 4,
 "nbformat_minor": 2
}
