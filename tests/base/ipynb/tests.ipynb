{
 "cells": [
  {
   "cell_type": "markdown",
   "metadata": {},
   "source": [
    "# Notebook without Tests\n",
    "\n",
    "This is an almost exact analogue to the solutions class. The idea is that we can include test blocks using **:class: test** that we can toggle on or off with *jupyter_drop_tests = True*. A primary use case is for regression testing for the 0.6 => 1.0 port, which we will not want to show to the end user.\n",
    "\n",
    "Here is a small example:"
   ]
  },
  {
   "cell_type": "markdown",
   "metadata": {},
   "source": [
    "## Question 1"
   ]
  },
  {
   "cell_type": "markdown",
   "metadata": {},
   "source": [
    "```julia\n",
    "x = 3\n",
    "foo = n -> (x -> x + n)\n",
    "```\n"
   ]
  }
 ],
 "metadata": {
  "filename": "tests.rst",
  "kernelspec": {
   "display_name": "Python",
   "language": "python3",
   "name": "python3"
  },
  "title": "Notebook without Tests"
 },
 "nbformat": 4,
 "nbformat_minor": 2
}