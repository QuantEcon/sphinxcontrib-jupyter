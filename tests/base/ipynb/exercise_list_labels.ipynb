{
 "cells": [
  {
   "cell_type": "markdown",
   "metadata": {},
   "source": [
    "# Exercise List from Labels\n",
    "\n",
    "\n",
    "<a id='exercise-0'></a>\n",
    "**Exercise 1**\n",
    "\n",
    "This is an exercise from the `exercise_list_labels` file"
   ]
  },
  {
   "cell_type": "markdown",
   "metadata": {},
   "source": [
    "## The exercise list\n",
    "\n",
    "This is an exercise list containing exercises `other_file` and `pyfun_functions_2`\n",
    "\n",
    "\n",
    "<a id='exerciselist-0'></a>\n",
    "**Exercise 1**\n",
    "\n",
    "This is an exercise from the `exercise_list_labels` file\n",
    "\n",
    "([*back to text*](#exercise-0))\n",
    "\n",
    "**Question 3**\n",
    "\n",
    "I'm a function with a label and a different title\n",
    "\n",
    "Define a function named `var` that takes a list (call it `x`) and\n",
    "computes the variance. This function should use the mean function that we\n",
    "defined earlier.\n",
    "\n",
    "Hint: $ \\text{variance} = \\frac{1}{N} \\sum_i (x_i - \\text{mean}(x))^2 $"
   ]
  },
  {
   "cell_type": "code",
   "execution_count": null,
   "metadata": {
    "hide-output": false
   },
   "outputs": [],
   "source": [
    "# your code here"
   ]
  },
  {
   "cell_type": "markdown",
   "metadata": {},
   "source": [
    "([*back to text*](exercises.ipynb#exercise-2))"
   ]
  },
  {
   "cell_type": "markdown",
   "metadata": {},
   "source": [
    "## One more exercise\n",
    "\n",
    "\n",
    "<a id='exerciselist-1'></a>\n",
    "**Exercise 4 (exercises)**\n",
    "\n",
    "This is another function with a label\n",
    "\n",
    "- and  \n",
    "- *a*  \n",
    "- **list**!  \n",
    "\n",
    "\n",
    "([*back to text*](exercises.ipynb#exercise-3))"
   ]
  }
 ],
 "metadata": {
  "filename": "exercise_list_labels.rst",
  "kernelspec": {
   "display_name": "Python",
   "language": "python3",
   "name": "python3"
  },
  "title": "Exercise List from Labels"
 },
 "nbformat": 4,
 "nbformat_minor": 2
}