{
 "cells": [
  {
   "cell_type": "markdown",
   "metadata": {},
   "source": [
    "# Images"
   ]
  },
  {
   "cell_type": "markdown",
   "metadata": {},
   "source": [
    "## Supported Image Path Specifications\n",
    "\n",
    "Adding a relative path image reference\n",
    "\n",
    "<img src=\"../_images/hood-2.jpg\" style=\"\">\n",
    "\n",
    "Adding a root level path image reference\n",
    "\n",
    "<img src=\"../_images/hood.jpg\" style=\"\">\n",
    "\n",
    "Adding a path to base level _static folder outside of base project folder\n",
    "\n",
    "<img src=\"../_images/simple_notebook-1.png\" style=\"\">"
   ]
  }
 ],
 "metadata": {
  "filename": "images.rst",
  "kernelspec": {
   "display_name": "Python",
   "language": "python3",
   "name": "python3"
  },
  "title": "Images"
 },
 "nbformat": 4,
 "nbformat_minor": 2
}