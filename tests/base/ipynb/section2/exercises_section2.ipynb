{
 "cells": [
  {
   "cell_type": "markdown",
   "metadata": {},
   "source": [
    "# Exercises in section 2\n",
    "\n",
    "This is a link back to the former section: [base section index](../index.ipynb)\n",
    "\n",
    "This is another file containing exercises.\n",
    "\n",
    "This text will not be repeated anywhere, however the text in an exercise will.\n",
    "\n",
    "\n",
    "<a id='exercise-0'></a>\n",
    "**Exercise 1**\n",
    "\n",
    "Hello, I am an exercise from section2/exercises_section2.rst\n",
    "\n",
    "\n",
    "<a id='exercise-1'></a>\n",
    "**Exercise 2**\n",
    "\n",
    "Hi, I am also an exercise from section2/exercises_section2.rst"
   ]
  }
 ],
 "metadata": {
  "filename": "exercises_section2.rst",
  "kernelspec": {
   "display_name": "Python",
   "language": "python3",
   "name": "python3"
  },
  "title": "Exercises in section 2"
 },
 "nbformat": 4,
 "nbformat_minor": 2
}