{
 "cells": [
  {
   "cell_type": "markdown",
   "metadata": {},
   "source": [
    "# Download\n",
    "\n",
    "Add test for download directive <a href=../_downloads/test_pwt.csv download>here</a>\n",
    "\n",
    "and at a root location specification <a href=../_downloads/test_pwt.csv download>root</a>\n",
    "\n",
    "and referencing a file that is in a different\n",
    "relative location <a href=../_downloads/test_pwt-2.csv download>second here</a>"
   ]
  }
 ],
 "metadata": {
  "filename": "download.rst",
  "kernelspec": {
   "display_name": "Python",
   "language": "python3",
   "name": "python3"
  },
  "title": "Download"
 },
 "nbformat": 4,
 "nbformat_minor": 2
}