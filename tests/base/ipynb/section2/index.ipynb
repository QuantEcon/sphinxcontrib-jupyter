{
 "cells": [
  {
   "cell_type": "markdown",
   "metadata": {},
   "source": [
    "# Section 2\n",
    "\n",
    "This is the index for section2\n",
    "\n",
    "Documents that require `Sphinx>=2.0`\n",
    "\n",
    "- [Exercise List from section2 (all)](exercise_list_sec2_all.ipynb)\n",
    "- [Exercise List from section2 (section2 only)](exercise_list_sec2.ipynb)\n",
    "- [Exercises in section 2](exercises_section2.ipynb)\n",
    "- [Images](images.ipynb)\n",
    "  - [Supported Image Path Specifications](images.ipynb#supported-image-path-specifications)\n",
    "- [Download](download.ipynb)"
   ]
  }
 ],
 "metadata": {
  "filename": "index.rst",
  "kernelspec": {
   "display_name": "Python",
   "language": "python3",
   "name": "python3"
  },
  "title": "Section 2"
 },
 "nbformat": 4,
 "nbformat_minor": 2
}