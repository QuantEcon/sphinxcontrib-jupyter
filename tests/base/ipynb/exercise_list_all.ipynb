{
 "cells": [
  {
   "cell_type": "markdown",
   "metadata": {},
   "source": [
    "# Exercise List (all)\n",
    "\n",
    "\n",
    "<a id='exercise-0'></a>\n",
    "**Exercise 1**\n",
    "\n",
    "This is a new exercise. It should be repeated again in the list below, in addition to exercises from other files\n",
    "\n",
    "\n",
    "<a id='exerciselist-0'></a>\n",
    "**Exercise 1**\n",
    "\n",
    "This is a new exercise. It should be repeated again in the list below, in addition to exercises from other files\n",
    "\n",
    "([*back to text*](#exercise-0))\n",
    "\n",
    "**Exercise 1 (exercise_list_labels)**\n",
    "\n",
    "This is an exercise from the `exercise_list_labels` file\n",
    "\n",
    "([*back to text*](exercise_list_labels.ipynb#exercise-0))\n",
    "\n",
    "**Exercise 1 (exercises)**\n",
    "\n",
    "This is a note that has some _italic_ and **bold** embedded\n",
    "\n",
    "- list  \n",
    "- in  \n",
    "- exercise  "
   ]
  },
  {
   "cell_type": "markdown",
   "metadata": {
    "hide-output": false
   },
   "source": [
    "```python\n",
    "def foobar(x, y, z):\n",
    "   print(x, y, z)\n",
    "```\n"
   ]
  },
  {
   "cell_type": "markdown",
   "metadata": {},
   "source": [
    "And text after the code block\n",
    "\n",
    "below is something that should be a real code block"
   ]
  },
  {
   "cell_type": "code",
   "execution_count": null,
   "metadata": {
    "hide-output": false
   },
   "outputs": [],
   "source": [
    "def foobar(x, y, z):\n",
    "   print(x, y, z)"
   ]
  },
  {
   "cell_type": "markdown",
   "metadata": {},
   "source": [
    "And text to follow\n",
    "\n",
    "([*back to text*](exercises.ipynb#exercise-0))\n",
    "\n",
    "**Exercise 2 (exercises)**\n",
    "\n",
    "This is a normal exercise\n",
    "\n",
    "([*back to text*](exercises.ipynb#exercise-1))\n",
    "\n",
    "**Question 3**\n",
    "\n",
    "I'm a function with a label and a different title\n",
    "\n",
    "Define a function named `var` that takes a list (call it `x`) and\n",
    "computes the variance. This function should use the mean function that we\n",
    "defined earlier.\n",
    "\n",
    "Hint: $ \\text{variance} = \\frac{1}{N} \\sum_i (x_i - \\text{mean}(x))^2 $"
   ]
  },
  {
   "cell_type": "code",
   "execution_count": null,
   "metadata": {
    "hide-output": false
   },
   "outputs": [],
   "source": [
    "# your code here"
   ]
  },
  {
   "cell_type": "markdown",
   "metadata": {},
   "source": [
    "([*back to text*](exercises.ipynb#exercise-2))\n",
    "\n",
    "**Exercise 4 (exercises)**\n",
    "\n",
    "This is another function with a label\n",
    "\n",
    "- and  \n",
    "- *a*  \n",
    "- **list**!  \n",
    "\n",
    "\n",
    "([*back to text*](exercises.ipynb#exercise-3))\n",
    "\n",
    "**Exercise 1 (section2/exercise_list_sec2)**\n",
    "\n",
    "I am defined in the exercise_list_sec2 file\n",
    "\n",
    "([*back to text*](section2/exercise_list_sec2.ipynb#exercise-0))\n",
    "\n",
    "**Exercise 1 (section2/exercises_section2)**\n",
    "\n",
    "Hello, I am an exercise from section2/exercises_section2.rst\n",
    "\n",
    "([*back to text*](section2/exercises_section2.ipynb#exercise-0))\n",
    "\n",
    "**Exercise 2 (section2/exercises_section2)**\n",
    "\n",
    "Hi, I am also an exercise from section2/exercises_section2.rst\n",
    "\n",
    "([*back to text*](section2/exercises_section2.ipynb#exercise-1))"
   ]
  }
 ],
 "metadata": {
  "filename": "exercise_list_all.rst",
  "kernelspec": {
   "display_name": "Python",
   "language": "python3",
   "name": "python3"
  },
  "title": "Exercise List (all)"
 },
 "nbformat": 4,
 "nbformat_minor": 4
}