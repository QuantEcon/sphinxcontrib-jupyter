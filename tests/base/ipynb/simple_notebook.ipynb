{
 "cells": [
  {
   "cell_type": "markdown",
   "metadata": {},
   "source": [
    "# Simple Notebook Example\n",
    "\n",
    "This provides a notebook that demonstrates the different\n",
    "features available in the [sphinxcontrib.jupyter](https://github.com/QuantEcon/sphinxcontrib-jupyter)\n",
    "extension.\n",
    "\n",
    "Text will appear as a markdown cell in the notebook split by code-blocks.\n",
    "\n",
    "To add a code block you can use `code-block` directives such as:"
   ]
  },
  {
   "cell_type": "code",
   "execution_count": null,
   "metadata": {
    "hide-output": false
   },
   "outputs": [],
   "source": [
    "%matplotlib inline"
   ]
  },
  {
   "cell_type": "code",
   "execution_count": null,
   "metadata": {
    "hide-output": false
   },
   "outputs": [],
   "source": [
    "\"\"\"\n",
    "==================\n",
    "A simple Fill plot\n",
    "==================\n",
    "\n",
    "This example showcases the most basic fill plot a user can do with matplotlib.\n",
    "\"\"\"\n",
    "import numpy as np\n",
    "import matplotlib.pyplot as plt\n",
    "\n",
    "x = np.linspace(0, 1, 500)\n",
    "y = np.sin(4 * np.pi * x) * np.exp(-5 * x)\n",
    "\n",
    "fig, ax = plt.subplots()\n",
    "\n",
    "ax.fill(x, y, zorder=10)\n",
    "ax.grid(True, zorder=5)\n",
    "plt.show()"
   ]
  },
  {
   "cell_type": "markdown",
   "metadata": {},
   "source": [
    "Figures can be include using the **figure** directive\n",
    "\n",
    "<img src=\"_static/fill_demo1.png\" style=\"\">"
   ]
  },
  {
   "cell_type": "markdown",
   "metadata": {},
   "source": [
    "## Math\n",
    "\n",
    "Math will flow through to the Jupyter notebook and will be rendered in place by mathjax\n",
    "\n",
    "$$\n",
    "\\mathbb P\\{z = v \\mid x \\}\n",
    "= \\begin{cases}\n",
    "    f_0(v) & \\mbox{if } x = x_0, \\\\\n",
    "    f_1(v) & \\mbox{if } x = x_1\n",
    "\\end{cases}\n",
    "$$"
   ]
  },
  {
   "cell_type": "markdown",
   "metadata": {},
   "source": [
    "## Tables\n",
    "\n",
    "The extension supports the conversion of **simple** rst tables.\n",
    "\n",
    "|Header 1|Header 2|Header 3|\n",
    "|:----------:|:----------:|:---------:|\n",
    "|body row 1|column 2|column 3|\n",
    "|body row 2|column 2|column 3|"
   ]
  },
  {
   "cell_type": "markdown",
   "metadata": {},
   "source": [
    "## Special Characters\n",
    "\n",
    "Here is some text with \\$1.00 in it and another \\$2.00"
   ]
  }
 ],
 "metadata": {
  "filename": "simple_notebook.rst",
  "kernelspec": {
   "display_name": "Python",
   "language": "python3",
   "name": "python3"
  },
  "title": "Simple Notebook Example"
 },
 "nbformat": 4,
 "nbformat_minor": 4
}