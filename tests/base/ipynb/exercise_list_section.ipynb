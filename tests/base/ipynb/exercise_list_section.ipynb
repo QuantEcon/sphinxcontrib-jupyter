{
 "cells": [
  {
   "cell_type": "markdown",
   "metadata": {},
   "source": [
    "# Exercise List (Section only)\n",
    "\n",
    "There are no exercises defined in this file, but there should be some from files only within this section\n",
    "\n",
    "\n",
    "<a id='exerciselist-0'></a>\n",
    "**Exercise 1 (exercise_list_all)**\n",
    "\n",
    "This is a new exercise. It should be repeated again in the list below, in addition to exercises from other files\n",
    "\n",
    "([*back to text*](exercise_list_all.ipynb#exercise-0))\n",
    "\n",
    "**Exercise 1 (exercises)**\n",
    "\n",
    "This is a note that has some _italic_ and **bold** embedded\n",
    "\n",
    "- list  \n",
    "- in  \n",
    "- exercise  "
   ]
  },
  {
   "cell_type": "markdown",
   "metadata": {
    "hide-output": false
   },
   "source": [
    "```python\n",
    "def foobar(x, y, z):\n",
    "   print(x, y, z)\n",
    "```\n"
   ]
  },
  {
   "cell_type": "markdown",
   "metadata": {},
   "source": [
    "And text after the code block\n",
    "\n",
    "below is something that should be a real code block"
   ]
  },
  {
   "cell_type": "code",
   "execution_count": null,
   "metadata": {
    "hide-output": false
   },
   "outputs": [],
   "source": [
    "def foobar(x, y, z):\n",
    "   print(x, y, z)"
   ]
  },
  {
   "cell_type": "markdown",
   "metadata": {},
   "source": [
    "And text to follow\n",
    "\n",
    "([*back to text*](exercises.ipynb#exercise-0))\n",
    "\n",
    "**Exercise 2 (exercises)**\n",
    "\n",
    "This is a normal exercise\n",
    "\n",
    "([*back to text*](exercises.ipynb#exercise-1))\n",
    "\n",
    "**These are all** exercises from `section2/exercise_list_sec2`\n",
    "\n",
    "\n",
    "<a id='exerciselist-1'></a>\n",
    "**Exercise 1**\n",
    "\n",
    "I am defined in the exercise_list_sec2 file\n",
    "\n",
    "([*back to text*](section2/exercise_list_sec2.ipynb#exercise-0))\n",
    "\n",
    "**And these** are from exercise_list_all\n",
    "\n",
    "\n",
    "<a id='exerciselist-2'></a>\n",
    "**Exercise 1**\n",
    "\n",
    "This is a new exercise. It should be repeated again in the list below, in addition to exercises from other files\n",
    "\n",
    "([*back to text*](exercise_list_all.ipynb#exercise-0))"
   ]
  }
 ],
 "metadata": {
  "filename": "exercise_list_section.rst",
  "kernelspec": {
   "display_name": "Python",
   "language": "python3",
   "name": "python3"
  },
  "title": "Exercise List (Section only)"
 },
 "nbformat": 4,
 "nbformat_minor": 2
}