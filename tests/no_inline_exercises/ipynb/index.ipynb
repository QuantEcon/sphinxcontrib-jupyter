{
 "cells": [
  {
   "cell_type": "markdown",
   "metadata": {},
   "source": [
    "# Welcome to sphinxcontrib-jupyter.minimal’s documentation!\n",
    "\n",
    "Documents that require `Sphinx>=2.0`\n",
    "\n",
    "- [Exercises](exercises.ipynb)\n",
    "  - [Collected Exercises](exercises.ipynb#collected-exercises)\n",
    "- [Exercise List (Section only)](exercise_list_section.ipynb)\n",
    "- [Exercise List (all)](exercise_list_all.ipynb)\n",
    "- [Exercise List from Labels](exercise_list_labels.ipynb)\n",
    "  - [The exercise list](exercise_list_labels.ipynb#the-exercise-list)\n",
    "  - [One more exercise](exercise_list_labels.ipynb#one-more-exercise)\n",
    "- [Section 2](section2/index.ipynb)\n",
    "  - [Exercise List from section2 (all)](section2/exercise_list_sec2_all.ipynb)\n",
    "  - [Exercise List from section2 (section2 only)](section2/exercise_list_sec2.ipynb)\n",
    "  - [Exercises in section 2](section2/exercises_section2.ipynb)"
   ]
  },
  {
   "cell_type": "markdown",
   "metadata": {},
   "source": [
    "# Indices and tables\n",
    "\n",
    "- [Index](genindex.ipynb)  \n",
    "- [Module Index](py-modindex.ipynb)  \n",
    "- [Search Page](search.ipynb)  "
   ]
  }
 ],
 "metadata": {
  "filename": "index.rst",
  "kernelspec": {
   "display_name": "Python",
   "language": "python3",
   "name": "python3"
  },
  "title": "Welcome to sphinxcontrib-jupyter.minimal’s documentation!"
 },
 "nbformat": 4,
 "nbformat_minor": 4
}