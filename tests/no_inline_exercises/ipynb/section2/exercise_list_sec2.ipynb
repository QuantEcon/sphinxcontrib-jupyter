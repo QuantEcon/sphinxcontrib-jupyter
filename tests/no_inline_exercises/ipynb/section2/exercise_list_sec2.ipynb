{
 "cells": [
  {
   "cell_type": "markdown",
   "metadata": {},
   "source": [
    "# Exercise List from section2 (section2 only)\n",
    "\n",
    "\n",
    "<a id='exercise-0'></a>\n",
    "> See exercise 1 in the [*exercise list*](#exerciselist-0)\n",
    "\n",
    "\n",
    "This file should have only exercises from section 2\n",
    "\n",
    "\n",
    "<a id='exerciselist-0'></a>\n",
    "**Exercise 1**\n",
    "\n",
    "I am defined in the exercise_list_sec2 file\n",
    "\n",
    "([*back to text*](#exercise-0))\n",
    "\n",
    "**Exercise 1 (exercises_section2)**\n",
    "\n",
    "Hello, I am an exercise from section2/exercises_section2.rst\n",
    "\n",
    "([*back to text*](exercises_section2.ipynb#exercise-0))\n",
    "\n",
    "**Exercise 2 (exercises_section2)**\n",
    "\n",
    "Hi, I am also an exercise from section2/exercises_section2.rst\n",
    "\n",
    "([*back to text*](exercises_section2.ipynb#exercise-1))"
   ]
  }
 ],
 "metadata": {
  "filename": "exercise_list_sec2.rst",
  "kernelspec": {
   "display_name": "Python",
   "language": "python3",
   "name": "python3"
  },
  "title": "Exercise List from section2 (section2 only)"
 },
 "nbformat": 4,
 "nbformat_minor": 4
}