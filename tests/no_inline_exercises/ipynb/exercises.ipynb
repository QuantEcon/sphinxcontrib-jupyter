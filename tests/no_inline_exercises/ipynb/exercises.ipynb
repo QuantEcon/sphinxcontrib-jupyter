{
 "cells": [
  {
   "cell_type": "markdown",
   "metadata": {},
   "source": [
    "# Exercises\n",
    "\n",
    "This notebook tests the new exercise directive defined in this package\n",
    "\n",
    "\n",
    "<a id='exercise-0'></a>\n",
    "> See exercise 1 in the [*exercise list*](#exerciselist-0)\n",
    "\n",
    "\n",
    "text in between exercise\n",
    "\n",
    "\n",
    "<a id='exercise-1'></a>\n",
    "> See exercise 2 in the [*exercise list*](#exerciselist-0)\n",
    "\n",
    "\n",
    "\n",
    "<a id='exercise-2'></a>\n",
    "> See exercise 3 in the [*exercise list*](#exerciselist-0)\n",
    "\n",
    "\n",
    "\n",
    "<a id='exercise-3'></a>\n",
    "> See exercise 4 in the [*exercise list*](#exerciselist-0)"
   ]
  },
  {
   "cell_type": "markdown",
   "metadata": {},
   "source": [
    "## Collected Exercises\n",
    "\n",
    "**All exercises from file appear below**\n",
    "\n",
    "\n",
    "<a id='exerciselist-0'></a>\n",
    "**Exercise 1**\n",
    "\n",
    "This is a note that has some _italic_ and **bold** embedded\n",
    "\n",
    "- list  \n",
    "- in  \n",
    "- exercise  "
   ]
  },
  {
   "cell_type": "markdown",
   "metadata": {
    "hide-output": false
   },
   "source": [
    "```python\n",
    "def foobar(x, y, z):\n",
    "   print(x, y, z)\n",
    "```\n"
   ]
  },
  {
   "cell_type": "markdown",
   "metadata": {},
   "source": [
    "And text after the code block\n",
    "\n",
    "below is something that should be a real code block"
   ]
  },
  {
   "cell_type": "code",
   "execution_count": null,
   "metadata": {
    "hide-output": false
   },
   "outputs": [],
   "source": [
    "def foobar(x, y, z):\n",
    "   print(x, y, z)"
   ]
  },
  {
   "cell_type": "markdown",
   "metadata": {},
   "source": [
    "And text to follow\n",
    "\n",
    "([*back to text*](#exercise-0))\n",
    "\n",
    "**Exercise 2**\n",
    "\n",
    "This is a normal exercise\n",
    "\n",
    "([*back to text*](#exercise-1))\n",
    "\n",
    "**Exercise 3**\n",
    "\n",
    "I'm a function with a label and a solution\n",
    "\n",
    "Define a function named `var` that takes a list (call it `x`) and\n",
    "computes the variance. This function should use the mean function that we\n",
    "defined earlier.\n",
    "\n",
    "Hint: $ \\text{variance} = \\frac{1}{N} \\sum_i (x_i - \\text{mean}(x))^2 $"
   ]
  },
  {
   "cell_type": "code",
   "execution_count": null,
   "metadata": {
    "hide-output": false
   },
   "outputs": [],
   "source": [
    "# your code here"
   ]
  },
  {
   "cell_type": "markdown",
   "metadata": {},
   "source": [
    "([*back to text*](#exercise-2))\n",
    "\n",
    "**Exercise 4**\n",
    "\n",
    "This is another function with a label\n",
    "\n",
    "- and  \n",
    "- *a*  \n",
    "- **list**!  \n",
    "\n",
    "\n",
    "([*back to text*](#exercise-3))"
   ]
  },
  {
   "cell_type": "markdown",
   "metadata": {},
   "source": [
    "### Repeated again because force doesn’t matter\n",
    "\n",
    "\n",
    "<a id='exerciselist-1'></a>\n",
    "**Exercise 1**\n",
    "\n",
    "This is a note that has some _italic_ and **bold** embedded\n",
    "\n",
    "- list  \n",
    "- in  \n",
    "- exercise  "
   ]
  },
  {
   "cell_type": "markdown",
   "metadata": {
    "hide-output": false
   },
   "source": [
    "```python\n",
    "def foobar(x, y, z):\n",
    "   print(x, y, z)\n",
    "```\n"
   ]
  },
  {
   "cell_type": "markdown",
   "metadata": {},
   "source": [
    "And text after the code block\n",
    "\n",
    "below is something that should be a real code block"
   ]
  },
  {
   "cell_type": "code",
   "execution_count": null,
   "metadata": {
    "hide-output": false
   },
   "outputs": [],
   "source": [
    "def foobar(x, y, z):\n",
    "   print(x, y, z)"
   ]
  },
  {
   "cell_type": "markdown",
   "metadata": {},
   "source": [
    "And text to follow\n",
    "\n",
    "([*back to text*](#exercise-0))\n",
    "\n",
    "**Exercise 2**\n",
    "\n",
    "This is a normal exercise\n",
    "\n",
    "([*back to text*](#exercise-1))\n",
    "\n",
    "**Exercise 3**\n",
    "\n",
    "I'm a function with a label and a solution\n",
    "\n",
    "Define a function named `var` that takes a list (call it `x`) and\n",
    "computes the variance. This function should use the mean function that we\n",
    "defined earlier.\n",
    "\n",
    "Hint: $ \\text{variance} = \\frac{1}{N} \\sum_i (x_i - \\text{mean}(x))^2 $"
   ]
  },
  {
   "cell_type": "code",
   "execution_count": null,
   "metadata": {
    "hide-output": false
   },
   "outputs": [],
   "source": [
    "# your code here"
   ]
  },
  {
   "cell_type": "markdown",
   "metadata": {},
   "source": [
    "([*back to text*](#exercise-2))\n",
    "\n",
    "**Exercise 4**\n",
    "\n",
    "This is another function with a label\n",
    "\n",
    "- and  \n",
    "- *a*  \n",
    "- **list**!  \n",
    "\n",
    "\n",
    "([*back to text*](#exercise-3))"
   ]
  }
 ],
 "metadata": {
  "filename": "exercises.rst",
  "kernelspec": {
   "display_name": "Python",
   "language": "python3",
   "name": "python3"
  },
  "title": "Exercises"
 },
 "nbformat": 4,
 "nbformat_minor": 4
}