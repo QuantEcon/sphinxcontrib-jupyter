{
 "cells": [
  {
   "cell_type": "markdown",
   "metadata": {},
   "source": [
    "# Further Inline\n",
    "\n",
    "A continuation Ramsey planner at $ t \\geq 1 $ takes\n",
    "$ (x_{t-1}, s_{t-1}) = (x_-, s_-) $ as given and before\n",
    "$ s $ is realized chooses\n",
    "$ (n_t(s_t), x_t(s_t)) = (n(s), x(s)) $ for $ s \\in  {\\cal S} $"
   ]
  },
  {
   "cell_type": "markdown",
   "metadata": {},
   "source": [
    "# Referenced Math\n",
    "\n",
    "Simple test case with reference in text\n",
    "\n",
    "\n",
    "<a id='equation-test'></a>\n",
    "$$\n",
    "v = p + \\beta v \\tag{2}\n",
    "$$\n",
    "\n",
    "this is a reference to [(2)](#equation-test) which is the above equation"
   ]
  }
 ],
 "metadata": {
  "filename": "math.rst",
  "filename_with_path": "math",
  "kernelspec": {
   "display_name": "Python",
   "language": "python3",
   "name": "python3"
  },
  "language_info": {
   "codemirror_mode": {
    "name": "ipython",
    "version": 3
   },
   "file_extension": ".py",
   "mimetype": "text/x-python",
   "name": "python",
   "nbconvert_exporter": "python",
   "pygments_lexer": "ipython3",
   "version": "3.7.3"
  },
  "title": "Math"
 },
 "nbformat": 4,
 "nbformat_minor": 2
}
