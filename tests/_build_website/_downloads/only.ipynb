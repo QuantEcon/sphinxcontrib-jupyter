{
 "cells": [],
 "metadata": {
  "filename": "only.rst",
  "filename_with_path": "only",
  "kernelspec": {
   "display_name": "Python",
   "language": "python3",
   "name": "python3"
  },
  "language_info": {
   "codemirror_mode": {
    "name": "ipython",
    "version": 3
   },
   "file_extension": ".py",
   "mimetype": "text/x-python",
   "name": "python",
   "nbconvert_exporter": "python",
   "pygments_lexer": "ipython3",
   "version": "3.7.3"
  },
  "title": "Only"
 },
 "nbformat": 4,
 "nbformat_minor": 2
}
