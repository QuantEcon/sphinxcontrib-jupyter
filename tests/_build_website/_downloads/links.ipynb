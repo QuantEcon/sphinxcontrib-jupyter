{
 "cells": [
  {
   "cell_type": "markdown",
   "metadata": {},
   "source": [
    "# Links\n",
    "\n",
    "Links are generated as markdown references to jump between notebooks and\n",
    "the sphinx link machinery is employed to track links across documents.\n",
    "\n",
    "An external link to another [notebook (as full file)](links_target.ipynb)\n",
    "\n",
    "This is a paragraph that contains [a google hyperlink](https://google.com.au).\n",
    "\n",
    "- An inline reference to [another document](links_target.ipynb#links-target)  "
   ]
  },
  {
   "cell_type": "markdown",
   "metadata": {},
   "source": [
    "# Special Cases\n",
    "\n",
    "The following link has ( and ) contained within them that doesn’t render nicely in markdown. In this case the extension will substitute ( with %28 and ) with %29\n",
    "\n",
    "Thinking back to the mathematical motivation, a [Field](https://en.wikipedia.org/wiki/Field_%28mathematics%29) is an Ring with a few additional properties"
   ]
  }
 ],
 "metadata": {
  "filename": "links.rst",
  "filename_with_path": "links",
  "kernelspec": {
   "display_name": "Python",
   "language": "python3",
   "name": "python3"
  },
  "language_info": {
   "codemirror_mode": {
    "name": "ipython",
    "version": 3
   },
   "file_extension": ".py",
   "mimetype": "text/x-python",
   "name": "python",
   "nbconvert_exporter": "python",
   "pygments_lexer": "ipython3",
   "version": "3.7.3"
  },
  "title": "Links"
 },
 "nbformat": 4,
 "nbformat_minor": 2
}
