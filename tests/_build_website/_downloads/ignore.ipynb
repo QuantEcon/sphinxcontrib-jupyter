{
 "cells": [
  {
   "cell_type": "markdown",
   "metadata": {},
   "source": [
    "## Comments\n",
    "\n",
    "the following **comment** contains “COMMENT HERE” text and should be ignored\n",
    "\n",
    "and here is some text after it"
   ]
  }
 ],
 "metadata": {
  "filename": "ignore.rst",
  "filename_with_path": "ignore",
  "kernelspec": {
   "display_name": "Python",
   "language": "python3",
   "name": "python3"
  },
  "language_info": {
   "codemirror_mode": {
    "name": "ipython",
    "version": 3
   },
   "file_extension": ".py",
   "mimetype": "text/x-python",
   "name": "python",
   "nbconvert_exporter": "python",
   "pygments_lexer": "ipython3",
   "version": "3.7.3"
  },
  "title": "Ignore"
 },
 "nbformat": 4,
 "nbformat_minor": 2
}
