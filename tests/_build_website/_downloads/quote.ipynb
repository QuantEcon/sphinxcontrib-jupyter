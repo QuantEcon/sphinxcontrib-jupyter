{
 "cells": [
  {
   "cell_type": "markdown",
   "metadata": {},
   "source": [
    "# Epigraph\n",
    "\n",
    "An epigraph is a special block-quote node\n",
    "\n",
    "> “Debugging is twice as hard as writing the code in the first place.\n",
    "> Therefore, if you write the code as cleverly as possible, you are, by definition,\n",
    "> not smart enough to debug it.”\n",
    ">\n",
    "> Brian Kernighan\n",
    "\n",
    "and one that is technically malformed\n",
    "\n",
    "> “Debugging is twice as hard as writing the code in the first place.\n",
    "> Therefore, if you write the code as cleverly as possible, you are, by definition,\n",
    "> not smart enough to debug it.” – Brian Kernighan\n",
    "\n",
    "\n",
    "with some final text"
   ]
  }
 ],
 "metadata": {
  "filename": "quote.rst",
  "filename_with_path": "quote",
  "kernelspec": {
   "display_name": "Python",
   "language": "python3",
   "name": "python3"
  },
  "language_info": {
   "codemirror_mode": {
    "name": "ipython",
    "version": 3
   },
   "file_extension": ".py",
   "mimetype": "text/x-python",
   "name": "python",
   "nbconvert_exporter": "python",
   "pygments_lexer": "ipython3",
   "version": "3.7.3"
  },
  "title": "Quote"
 },
 "nbformat": 4,
 "nbformat_minor": 2
}
