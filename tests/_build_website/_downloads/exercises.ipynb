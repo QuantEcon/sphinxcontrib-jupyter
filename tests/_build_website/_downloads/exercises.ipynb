{
 "cells": [
  {
   "cell_type": "code",
   "execution_count": 1,
   "metadata": {
    "hide-output": false
   },
   "outputs": [],
   "source": [
    "def foobar(x, y, z):\n",
    "   print(x, y, z)"
   ]
  },
  {
   "cell_type": "markdown",
   "metadata": {},
   "source": [
    "<blockquote>\n",
    "And text to follow\n",
    "\n",
    "\n",
    "</blockquote>"
   ]
  },
  {
   "cell_type": "markdown",
   "metadata": {},
   "source": [
    "text in between exercise\n",
    "\n",
    "<blockquote>\n",
    "\n",
    "**Exercise**\n",
    "\n",
    "This is a normal exercise\n",
    "\n",
    "\n",
    "</blockquote>"
   ]
  }
 ],
 "metadata": {
  "filename": "exercises.rst",
  "filename_with_path": "exercises",
  "kernelspec": {
   "display_name": "Python",
   "language": "python3",
   "name": "python3"
  },
  "language_info": {
   "codemirror_mode": {
    "name": "ipython",
    "version": 3
   },
   "file_extension": ".py",
   "mimetype": "text/x-python",
   "name": "python",
   "nbconvert_exporter": "python",
   "pygments_lexer": "ipython3",
   "version": "3.7.3"
  },
  "title": "Exercises"
 },
 "nbformat": 4,
 "nbformat_minor": 2
}
