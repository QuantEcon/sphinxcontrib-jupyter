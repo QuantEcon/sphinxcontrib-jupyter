{
 "cells": [
  {
   "cell_type": "markdown",
   "metadata": {},
   "source": [
    "## Code\n",
    "\n",
    "Here is some inline python `import numpy as np` that should be displayed\n",
    "\n",
    "and some text that is not code `here`"
   ]
  },
  {
   "cell_type": "markdown",
   "metadata": {},
   "source": [
    "## Math\n",
    "\n",
    "Inline maths with inline role: $ x^3+\\frac{1+\\sqrt{2}}{\\pi} $\n",
    "\n",
    "Inline maths using dollar signs (not supported yet): \\$x^3+frac{1+sqrt{2}}{pi}\\$ as the\n",
    "backslashes are removed."
   ]
  }
 ],
 "metadata": {
  "filename": "inline.rst",
  "filename_with_path": "inline",
  "kernelspec": {
   "display_name": "Python",
   "language": "python3",
   "name": "python3"
  },
  "language_info": {
   "codemirror_mode": {
    "name": "ipython",
    "version": 3
   },
   "file_extension": ".py",
   "mimetype": "text/x-python",
   "name": "python",
   "nbconvert_exporter": "python",
   "pygments_lexer": "ipython3",
   "version": "3.7.3"
  },
  "title": "Inline"
 },
 "nbformat": 4,
 "nbformat_minor": 2
}
