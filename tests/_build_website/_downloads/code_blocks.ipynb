{
 "cells": [
  {
   "cell_type": "code",
   "execution_count": 1,
   "metadata": {
    "hide-output": false
   },
   "outputs": [
    {
     "ename": "NameError",
     "evalue": "name 'argwhere' is not defined",
     "output_type": "error",
     "traceback": [
      "\u001b[0;31m---------------------------------------------------------------------------\u001b[0m",
      "\u001b[0;31mNameError\u001b[0m                                 Traceback (most recent call last)",
      "\u001b[0;32m<ipython-input-1-a889480e2e2b>\u001b[0m in \u001b[0;36m<module>\u001b[0;34m\u001b[0m\n\u001b[1;32m      2\u001b[0m \u001b[0mx\u001b[0m \u001b[0;34m=\u001b[0m \u001b[0;36m1\u001b[0m\u001b[0;34m\u001b[0m\u001b[0;34m\u001b[0m\u001b[0m\n\u001b[1;32m      3\u001b[0m \u001b[0mno\u001b[0m \u001b[0;34m=\u001b[0m \u001b[0;34m'really!'\u001b[0m\u001b[0;34m\u001b[0m\u001b[0;34m\u001b[0m\u001b[0m\n\u001b[0;32m----> 4\u001b[0;31m \u001b[0mp\u001b[0m \u001b[0;34m=\u001b[0m \u001b[0margwhere\u001b[0m\u001b[0;34m(\u001b[0m\u001b[0mx\u001b[0m \u001b[0;34m==\u001b[0m \u001b[0;36m2\u001b[0m\u001b[0;34m)\u001b[0m\u001b[0;34m\u001b[0m\u001b[0;34m\u001b[0m\u001b[0m\n\u001b[0m",
      "\u001b[0;31mNameError\u001b[0m: name 'argwhere' is not defined"
     ]
    }
   ],
   "source": [
    "this = 'is a code block'\n",
    "x = 1\n",
    "no = 'really!'\n",
    "p = argwhere(x == 2)"
   ]
  },
  {
   "cell_type": "markdown",
   "metadata": {},
   "source": [
    "This is another **.. code::** directive"
   ]
  },
  {
   "cell_type": "code",
   "execution_count": 2,
   "metadata": {
    "hide-output": false
   },
   "outputs": [],
   "source": [
    "from pylab import linspace\n",
    "t = linspace(0, 1)\n",
    "x = t**2"
   ]
  },
  {
   "cell_type": "markdown",
   "metadata": {},
   "source": [
    "This is a **::** directive"
   ]
  },
  {
   "cell_type": "code",
   "execution_count": 3,
   "metadata": {
    "hide-output": false
   },
   "outputs": [
    {
     "data": {
      "image/png": "[encoded data removed]",
      "text/plain": [
       "<Figure size 432x288 with 1 Axes>"
      ]
     },
     "metadata": {
      "needs_background": "light"
     },
     "output_type": "display_data"
    }
   ],
   "source": [
    "from pylab import *\n",
    "x = logspace(0, 1)\n",
    "y = x**2\n",
    "figure()\n",
    "plot(x, y)\n",
    "show()"
   ]
  },
  {
   "cell_type": "markdown",
   "metadata": {},
   "source": [
    "This is a **.. code-block:: julia** test with showing snippet for another language *Julia*\n",
    "and it is included as a non-execute cell"
   ]
  },
  {
   "cell_type": "markdown",
   "metadata": {
    "hide-output": false
   },
   "source": [
    "```julia\n",
    "using QuantEcon\n",
    "```\n"
   ]
  },
  {
   "cell_type": "markdown",
   "metadata": {},
   "source": [
    "However this **currently** means **.. code-block:: python** is also included as a non-execute\n",
    "cell [See [issue](https://github.com/QuantEcon/sphinxcontrib-jupyter/issues/51)]"
   ]
  },
  {
   "cell_type": "markdown",
   "metadata": {
    "hide-output": false
   },
   "source": [
    "```python\n",
    "import pandas as pd\n",
    "```\n"
   ]
  },
  {
   "cell_type": "markdown",
   "metadata": {},
   "source": [
    "# No Execute\n",
    "\n",
    "This is a **.. code::** directive with **:class: no-execute**"
   ]
  },
  {
   "cell_type": "markdown",
   "metadata": {
    "hide-output": false
   },
   "source": [
    "```python3\n",
    " import numpy as np\n",
    "```\n"
   ]
  },
  {
   "cell_type": "markdown",
   "metadata": {},
   "source": [
    "# Other Examples from rst2ipynb\n",
    "\n",
    "Support for Python doctest code blocks:"
   ]
  },
  {
   "cell_type": "code",
   "execution_count": 4,
   "metadata": {
    "hide-output": false
   },
   "outputs": [
    {
     "ename": "SyntaxError",
     "evalue": "Missing parentheses in call to 'print'. Did you mean print(x)? (<ipython-input-4-5fa87da76b70>, line 4)",
     "output_type": "error",
     "traceback": [
      "\u001b[0;36m  File \u001b[0;32m\"<ipython-input-4-5fa87da76b70>\"\u001b[0;36m, line \u001b[0;32m4\u001b[0m\n\u001b[0;31m    print x\u001b[0m\n\u001b[0m          ^\u001b[0m\n\u001b[0;31mSyntaxError\u001b[0m\u001b[0;31m:\u001b[0m Missing parentheses in call to 'print'. Did you mean print(x)?\n"
     ]
    }
   ],
   "source": [
    ">>> 1+1\n",
    "2\n",
    ">>> for x in range(3):\n",
    "...      print x\n",
    "...\n",
    "0\n",
    "1\n",
    "2\n",
    ">>> x = 1\n",
    ">>> x = 2"
   ]
  },
  {
   "cell_type": "markdown",
   "metadata": {},
   "source": [
    "but the input to this cell is not parsed into separate blocks unlike [rst2ipynb](https://github.com/nthiery/rst-to-ipynb)\n",
    "\n",
    "Function with pycon code block style:"
   ]
  },
  {
   "cell_type": "code",
   "execution_count": 5,
   "metadata": {
    "hide-output": false
   },
   "outputs": [
    {
     "data": {
      "text/plain": [
       "6"
      ]
     },
     "execution_count": 5,
     "metadata": {},
     "output_type": "execute_result"
    }
   ],
   "source": [
    ">>> def f(a, b, c):\n",
    "...     \"\"\"Multiline\n",
    "...     docstring\n",
    "...\n",
    "...     \"\"\"\n",
    "...     # a comment\n",
    "...\n",
    "...     return a + b + c\n",
    "...\n",
    ">>> f(1, 2, 3)\n",
    "6"
   ]
  },
  {
   "cell_type": "markdown",
   "metadata": {},
   "source": [
    "# Output Test Cases\n",
    "\n",
    "**Note:** This sphinx extension does not currently parse blocks internally\n",
    "\n",
    "Long Pandas DataFrame’s with more than three digits in the index column will\n",
    "have a `...` in the output which shouldn’t be considered a Python line\n",
    "continuation prompt:"
   ]
  },
  {
   "cell_type": "code",
   "execution_count": 6,
   "metadata": {
    "hide-output": false
   },
   "outputs": [
    {
     "ename": "IndentationError",
     "evalue": "unexpected indent (<ipython-input-6-4347463b5c4a>, line 3)",
     "output_type": "error",
     "traceback": [
      "\u001b[0;36m  File \u001b[0;32m\"<ipython-input-6-4347463b5c4a>\"\u001b[0;36m, line \u001b[0;32m3\u001b[0m\n\u001b[0;31m    b\u001b[0m\n\u001b[0m    ^\u001b[0m\n\u001b[0;31mIndentationError\u001b[0m\u001b[0;31m:\u001b[0m unexpected indent\n"
     ]
    }
   ],
   "source": [
    ">>> import pandas as pd\n",
    ">>> pd.DataFrame({'b': pd.np.arange(1000)}, index=pd.np.linspace(0, 10, 1000))\n",
    "            b\n",
    "0.00000     0\n",
    "0.01001     1\n",
    "0.02002     2\n",
    "0.03003     3\n",
    "0.04004     4\n",
    "0.05005     5\n",
    "0.06006     6\n",
    "0.07007     7\n",
    "0.08008     8\n",
    "0.09009     9\n",
    "0.10010    10\n",
    "0.11011    11\n",
    "0.12012    12\n",
    "0.13013    13\n",
    "0.14014    14\n",
    "0.15015    15\n",
    "0.16016    16\n",
    "0.17017    17\n",
    "0.18018    18\n",
    "0.19019    19\n",
    "0.20020    20\n",
    "0.21021    21\n",
    "0.22022    22\n",
    "0.23023    23\n",
    "0.24024    24\n",
    "0.25025    25\n",
    "0.26026    26\n",
    "0.27027    27\n",
    "0.28028    28\n",
    "0.29029    29\n",
    "...       ...\n",
    "9.70971   970\n",
    "9.71972   971\n",
    "9.72973   972\n",
    "9.73974   973\n",
    "9.74975   974\n",
    "9.75976   975\n",
    "9.76977   976\n",
    "9.77978   977\n",
    "9.78979   978\n",
    "9.79980   979\n",
    "9.80981   980\n",
    "9.81982   981\n",
    "9.82983   982\n",
    "9.83984   983\n",
    "9.84985   984\n",
    "9.85986   985\n",
    "9.86987   986\n",
    "9.87988   987\n",
    "9.88989   988\n",
    "9.89990   989\n",
    "9.90991   990\n",
    "9.91992   991\n",
    "9.92993   992\n",
    "9.93994   993\n",
    "9.94995   994\n",
    "9.95996   995\n",
    "9.96997   996\n",
    "9.97998   997\n",
    "9.98999   998\n",
    "10.00000  999\n",
    "\n",
    "[1000 rows x 1 columns]"
   ]
  },
  {
   "cell_type": "markdown",
   "metadata": {},
   "source": [
    "# Nested Code Blocks\n",
    "\n",
    "Due to the linear structure of Jupyter notebooks (a list of cells),\n",
    "many nested structures can’t be rendered exactly. Nevertheless we want\n",
    "to make sure that, despite some degrading, the end result is\n",
    "reasonably readable, and code blocks are rendered as code cells.\n",
    "\n",
    "The tests are taken from rst2ipynb, where many of them fail.\n",
    "\n",
    "1. Nested code block A  "
   ]
  },
  {
   "cell_type": "code",
   "execution_count": 7,
   "metadata": {
    "hide-output": false
   },
   "outputs": [
    {
     "data": {
      "text/plain": [
       "2"
      ]
     },
     "execution_count": 7,
     "metadata": {},
     "output_type": "execute_result"
    }
   ],
   "source": [
    "1+1"
   ]
  },
  {
   "cell_type": "markdown",
   "metadata": {},
   "source": [
    "1. Nested code block B  "
   ]
  },
  {
   "cell_type": "code",
   "execution_count": 8,
   "metadata": {
    "hide-output": false
   },
   "outputs": [
    {
     "data": {
      "text/plain": [
       "2"
      ]
     },
     "execution_count": 8,
     "metadata": {},
     "output_type": "execute_result"
    }
   ],
   "source": [
    "1+1"
   ]
  },
  {
   "cell_type": "markdown",
   "metadata": {},
   "source": [
    "1. Nested code block C; ok to fail? (the inner indent does not match the itemized text indent)  "
   ]
  },
  {
   "cell_type": "code",
   "execution_count": 9,
   "metadata": {
    "hide-output": false
   },
   "outputs": [
    {
     "data": {
      "text/plain": [
       "2"
      ]
     },
     "execution_count": 9,
     "metadata": {},
     "output_type": "execute_result"
    }
   ],
   "source": [
    "1+1"
   ]
  },
  {
   "cell_type": "markdown",
   "metadata": {},
   "source": [
    "\n",
    "\n",
    "\n",
    "The following note contains a code block – and these get rendered as code-blocks which\n",
    "breaks the note structure. This is the currently accepted solution.\n",
    "\n",
    ">**Note**\n",
    ">\n",
    ">A code block in a note:"
   ]
  },
  {
   "cell_type": "code",
   "execution_count": 10,
   "metadata": {
    "hide-output": false
   },
   "outputs": [
    {
     "data": {
      "text/plain": [
       "2"
      ]
     },
     "execution_count": 10,
     "metadata": {},
     "output_type": "execute_result"
    }
   ],
   "source": [
    ">>> 1+1"
   ]
  },
  {
   "cell_type": "markdown",
   "metadata": {},
   "source": [
    "Another one:"
   ]
  },
  {
   "cell_type": "code",
   "execution_count": 11,
   "metadata": {
    "hide-output": false
   },
   "outputs": [
    {
     "data": {
      "text/plain": [
       "2"
      ]
     },
     "execution_count": 11,
     "metadata": {},
     "output_type": "execute_result"
    }
   ],
   "source": [
    ">>> 1+1"
   ]
  },
  {
   "cell_type": "markdown",
   "metadata": {},
   "source": [
    "## Note\n",
    "\n",
    "A code block in a topic:"
   ]
  },
  {
   "cell_type": "code",
   "execution_count": 12,
   "metadata": {
    "hide-output": false
   },
   "outputs": [
    {
     "data": {
      "text/plain": [
       "2"
      ]
     },
     "execution_count": 12,
     "metadata": {},
     "output_type": "execute_result"
    }
   ],
   "source": [
    ">>> 1+1"
   ]
  },
  {
   "cell_type": "markdown",
   "metadata": {},
   "source": [
    "Another one:"
   ]
  },
  {
   "cell_type": "code",
   "execution_count": 13,
   "metadata": {
    "hide-output": false
   },
   "outputs": [
    {
     "data": {
      "text/plain": [
       "2"
      ]
     },
     "execution_count": 13,
     "metadata": {},
     "output_type": "execute_result"
    }
   ],
   "source": [
    ">>> 1+1"
   ]
  },
  {
   "cell_type": "markdown",
   "metadata": {},
   "source": [
    "## Doubly nested code blocks\n",
    "\n",
    "1. Foo  "
   ]
  },
  {
   "cell_type": "code",
   "execution_count": 14,
   "metadata": {
    "hide-output": false
   },
   "outputs": [
    {
     "data": {
      "text/plain": [
       "2"
      ]
     },
     "execution_count": 14,
     "metadata": {},
     "output_type": "execute_result"
    }
   ],
   "source": [
    "1+1"
   ]
  },
  {
   "cell_type": "code",
   "execution_count": 15,
   "metadata": {
    "hide-output": false
   },
   "outputs": [
    {
     "data": {
      "text/plain": [
       "10"
      ]
     },
     "execution_count": 15,
     "metadata": {},
     "output_type": "execute_result"
    }
   ],
   "source": [
    ">>> def plus_grand_element(liste):\n",
    "...     \"\"\"\n",
    "...     Renvoie le plus grand élément de la liste\n",
    "...     EXAMPLES::\n",
    "...         >>> plus_grand_element([7,3,1,10,4,10,2,9])\n",
    "...         10\n",
    "...         >>> plus_grand_element([7])\n",
    "...         7\n",
    "...     \"\"\"\n",
    "...     resultat = liste[0]\n",
    "...     for i in range(1, len(liste)-1):\n",
    "...         # Invariant: resultat est le plus grand element de liste[:i]\n",
    "...         assert resultat in liste[:i]\n",
    "...         assert all(resultat >= x for x in liste[:i])\n",
    "...         if liste[i] > resultat:\n",
    "...             resultat = liste[i]\n",
    "...     return resultat\n",
    ">>> plus_grand_element([7,3,1,10,4,10,2,9])\n",
    "10"
   ]
  },
  {
   "cell_type": "markdown",
   "metadata": {},
   "source": [
    "Foo.  \n",
    "Bla:  "
   ]
  },
  {
   "cell_type": "code",
   "execution_count": 16,
   "metadata": {
    "hide-output": false
   },
   "outputs": [
    {
     "data": {
      "text/plain": [
       "2"
      ]
     },
     "execution_count": 16,
     "metadata": {},
     "output_type": "execute_result"
    }
   ],
   "source": [
    ">>> 1+1"
   ]
  },
  {
   "cell_type": "markdown",
   "metadata": {},
   "source": [
    "\n",
    "<dl style='margin: 20px 0;'>\n",
    "<dt>ok to fail? (missing mandatory new line after ::)::</dt>\n",
    "  <dd>\n",
    "  >>> 1+1</dd>\n",
    "  \n",
    "  </dl>"
   ]
  },
  {
   "cell_type": "markdown",
   "metadata": {},
   "source": [
    "## A code block in a list in a topic\n",
    "\n",
    "1. Foo  "
   ]
  },
  {
   "cell_type": "code",
   "execution_count": 17,
   "metadata": {
    "hide-output": false
   },
   "outputs": [],
   "source": [
    ">>> def fusion(l1, l2):\n",
    "...     sort(l1+l2)"
   ]
  },
  {
   "cell_type": "markdown",
   "metadata": {},
   "source": [
    "\n",
    "\n",
    "## Code Block with None\n",
    "\n",
    "A code block with none specified as highlighter"
   ]
  },
  {
   "cell_type": "markdown",
   "metadata": {
    "hide-output": false
   },
   "source": [
    "```text\n",
    "import numpy as np\n",
    "```\n"
   ]
  },
  {
   "cell_type": "markdown",
   "metadata": {},
   "source": [
    "should be a markdown block with no highlighting"
   ]
  }
 ],
 "metadata": {
  "filename": "code_blocks.rst",
  "filename_with_path": "code_blocks",
  "kernelspec": {
   "display_name": "Python",
   "language": "python3",
   "name": "python3"
  },
  "language_info": {
   "codemirror_mode": {
    "name": "ipython",
    "version": 3
   },
   "file_extension": ".py",
   "mimetype": "text/x-python",
   "name": "python",
   "nbconvert_exporter": "python",
   "pygments_lexer": "ipython3",
   "version": "3.7.3"
  },
  "title": "Code blocks"
 },
 "nbformat": 4,
 "nbformat_minor": 2
}
