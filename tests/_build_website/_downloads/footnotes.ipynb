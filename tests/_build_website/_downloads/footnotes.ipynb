{
 "cells": [
  {
   "cell_type": "markdown",
   "metadata": {},
   "source": [
    "**Footnotes**\n",
    "\n",
    "<a id='f1'></a>\n",
    "**[1]** The problem assumes that there are no cross products between states and controls in the return function.  A simple transformation  converts a problem whose return function has cross products into an equivalent problem that has no cross products.\n",
    "\n",
    "<a id='f2'></a>\n",
    "**[2]** The government would make different choices were it to choose sequentially, that is,  were it to select its time $ t $ action at time $ t $."
   ]
  }
 ],
 "metadata": {
  "filename": "footnotes.rst",
  "filename_with_path": "footnotes",
  "kernelspec": {
   "display_name": "Python",
   "language": "python3",
   "name": "python3"
  },
  "language_info": {
   "codemirror_mode": {
    "name": "ipython",
    "version": 3
   },
   "file_extension": ".py",
   "mimetype": "text/x-python",
   "name": "python",
   "nbconvert_exporter": "python",
   "pygments_lexer": "ipython3",
   "version": "3.7.3"
  },
  "title": "Rubric"
 },
 "nbformat": 4,
 "nbformat_minor": 2
}
