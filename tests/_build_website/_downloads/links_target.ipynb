{
 "cells": [
  {
   "cell_type": "markdown",
   "metadata": {},
   "source": [
    "# Links Target\n",
    "\n",
    "This is a simple file that is linked to by [links.rst](links.ipynb#links)"
   ]
  }
 ],
 "metadata": {
  "filename": "links_target.rst",
  "filename_with_path": "links_target",
  "kernelspec": {
   "display_name": "Python",
   "language": "python3",
   "name": "python3"
  },
  "language_info": {
   "codemirror_mode": {
    "name": "ipython",
    "version": 3
   },
   "file_extension": ".py",
   "mimetype": "text/x-python",
   "name": "python",
   "nbconvert_exporter": "python",
   "pygments_lexer": "ipython3",
   "version": "3.7.3"
  },
  "title": "Links Target"
 },
 "nbformat": 4,
 "nbformat_minor": 2
}
