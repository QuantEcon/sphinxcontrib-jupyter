{
 "cells": [
  {
   "cell_type": "markdown",
   "metadata": {},
   "source": [
    "## Question 1\n",
    "\n",
    "Plot the area under the curve\n",
    "\n",
    "$$\n",
    "f(x)=\\sin(4\\pi x) exp(-5x)\n",
    "$$\n",
    "\n",
    "when $ x \\in [0,1] $"
   ]
  }
 ],
 "metadata": {
  "filename": "solutions.rst",
  "filename_with_path": "solutions",
  "kernelspec": {
   "display_name": "Python",
   "language": "python3",
   "name": "python3"
  },
  "language_info": {
   "codemirror_mode": {
    "name": "ipython",
    "version": 3
   },
   "file_extension": ".py",
   "mimetype": "text/x-python",
   "name": "python",
   "nbconvert_exporter": "python",
   "pygments_lexer": "ipython3",
   "version": "3.7.3"
  },
  "title": "Notebook without solutions"
 },
 "nbformat": 4,
 "nbformat_minor": 2
}
