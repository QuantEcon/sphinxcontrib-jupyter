{
 "cells": [
  {
   "cell_type": "markdown",
   "metadata": {},
   "source": [
    "# Indices and tables\n",
    "\n",
    "- [Index](genindex.ipynb)  \n",
    "- [Module Index](py-modindex.ipynb)  \n",
    "- [Search Page](search.ipynb)  "
   ]
  }
 ],
 "metadata": {
  "filename": "index.rst",
  "filename_with_path": "index",
  "kernelspec": {
   "display_name": "Python",
   "language": "python3",
   "name": "python3"
  },
  "language_info": {
   "codemirror_mode": {
    "name": "ipython",
    "version": 3
   },
   "file_extension": ".py",
   "mimetype": "text/x-python",
   "name": "python",
   "nbconvert_exporter": "python",
   "pygments_lexer": "ipython3",
   "version": "3.7.3"
  },
  "title": "Welcome to sphinxcontrib-jupyter.minimal’s documentation!"
 },
 "nbformat": 4,
 "nbformat_minor": 2
}
