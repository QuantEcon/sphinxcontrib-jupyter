{
 "cells": [
  {
   "cell_type": "markdown",
   "metadata": {},
   "source": [
    "# Quote\n",
    "\n",
    "This is some text\n",
    "\n",
    "\n",
    "    This is a quote!\n",
    "\n",
    "and this is not"
   ]
  },
  {
   "cell_type": "markdown",
   "metadata": {},
   "source": [
    "# Epigraph\n",
    "\n",
    "An epigraph is a special block-quote node\n",
    "\n",
    "\n",
    "    “Debugging is twice as hard as writing the code in the first place.\n",
    "    Therefore, if you write the code as cleverly as possible, you are, by definition,\n",
    "    not smart enough to debug it.”\n",
    "\n",
    "    Brian Kernighan\n",
    "and one that is technically malformed\n",
    "\n",
    "\n",
    "    “Debugging is twice as hard as writing the code in the first place.\n",
    "    Therefore, if you write the code as cleverly as possible, you are, by definition,\n",
    "    not smart enough to debug it.” – Brian Kernighan\n",
    "\n",
    "with some final text"
   ]
  }
 ],
 "metadata": {
  "kernelspec": {
   "display_name": "Python",
   "language": "python3",
   "name": "python3"
  }
 },
 "nbformat": 4,
 "nbformat_minor": 2
}