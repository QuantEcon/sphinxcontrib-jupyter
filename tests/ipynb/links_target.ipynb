{
 "cells": [
  {
   "cell_type": "markdown",
   "metadata": {
    "slideshow": {
     "slide_type": "slide"
    }
   },
   "source": [
    "\n",
    "<a id='links-target'></a>"
   ]
  },
  {
   "cell_type": "markdown",
   "metadata": {
    "slideshow": {
     "slide_type": "slide"
    }
   },
   "source": [
    "# Links Target\n",
    "\n",
    "This is a simple file that is linked to by [links.rst](links.ipynb#links)"
   ]
  }
 ],
 "metadata": {
  "celltoolbar": "Slideshow",
  "filename": "links_target.rst",
  "kernelspec": {
   "display_name": "Python",
   "language": "python3",
   "name": "python3"
  },
  "title": "Links Target"
 },
 "nbformat": 4,
 "nbformat_minor": 2
}