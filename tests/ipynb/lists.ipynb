{
 "cells": [
  {
   "cell_type": "markdown",
   "metadata": {},
   "source": [
    "# List"
   ]
  },
  {
   "cell_type": "markdown",
   "metadata": {},
   "source": [
    "# Basic Lists"
   ]
  },
  {
   "cell_type": "markdown",
   "metadata": {},
   "source": [
    "## Bullets\n",
    "\n",
    "- b1  \n",
    "- b2  \n",
    "- b3  "
   ]
  },
  {
   "cell_type": "markdown",
   "metadata": {},
   "source": [
    "## Bullets\n",
    "\n",
    "- b1  \n",
    "- b2  \n",
    "- b3  "
   ]
  },
  {
   "cell_type": "markdown",
   "metadata": {},
   "source": [
    "## List\n",
    "\n",
    "1. l1  \n",
    "1. l2  \n",
    "1. l3  "
   ]
  },
  {
   "cell_type": "markdown",
   "metadata": {},
   "source": [
    "## Numbered\n",
    "\n",
    "1. a numbered list  \n",
    "1. and a second item  \n",
    "1. and a third item  "
   ]
  },
  {
   "cell_type": "markdown",
   "metadata": {},
   "source": [
    "# Nested Lists"
   ]
  },
  {
   "cell_type": "markdown",
   "metadata": {},
   "source": [
    "## Bullets\n",
    "\n",
    "- b1  \n",
    "  - c1  \n",
    "  - c2  \n",
    "- b2  \n",
    "  - d1  \n",
    "  - d2  \n",
    "- b3  "
   ]
  },
  {
   "cell_type": "markdown",
   "metadata": {},
   "source": [
    "## Bullets\n",
    "\n",
    "- this is  \n",
    "- a list  \n",
    "  - with a nested list  \n",
    "  - and some subitems  \n",
    "- and here the parent list continues  "
   ]
  },
  {
   "cell_type": "markdown",
   "metadata": {},
   "source": [
    "## Mixed Lists\n",
    "\n",
    "Currently mixed lists require 4 spaces of indentation\n",
    "\n",
    "1. bla  \n",
    "  \n",
    "  - foo1  \n",
    "  - foo 2  \n",
    "  \n",
    "1. bla2  \n",
    "  \n",
    "  - foo  \n",
    "  \n",
    "1. bla3  \n",
    "\n",
    "\n",
    "Using 2 spaces of indentation is returned as a block_quote and is an issue that needs to be fixed\n",
    "for compliance with RST spec.\n",
    "\n",
    "1. bla  \n",
    "\n",
    "\n",
    "> - foo1  \n",
    "- foo 2  \n",
    "\n",
    "\n",
    "\n",
    "1. bla2  \n",
    "\n",
    "\n",
    "> - foo  \n",
    "\n",
    "\n",
    "\n",
    "1. bla3  "
   ]
  },
  {
   "cell_type": "markdown",
   "metadata": {},
   "source": [
    "## Malformed Lists that seem to work in HTML\n",
    "\n",
    "- first item  \n",
    "- second item  \n",
    "  \n",
    "  - a sub item that is spaced with four spaces rather than two  "
   ]
  },
  {
   "cell_type": "markdown",
   "metadata": {},
   "source": [
    "## Complex Lists with Display Math\n",
    "\n",
    "Here is a computational algorithm:\n",
    "\n",
    "1. Start with a guess for the value for $ \\Phi $, then use the\n",
    "  first-order conditions and the feasibility conditions to compute\n",
    "  $ c(s_t), n(s_t) $ for $ s \\in [1,\\ldots, S] $ and\n",
    "  $ c_0(s_0,b_0) $ and $ n_0(s_0, b_0) $, given $ \\Phi $  \n",
    "  - these are $ 2  (S+1) $ equations in $ 2  (S+1) $ unknowns  \n",
    "1. Solve the $ S $ equations for the $ S $ elements of $ \\vec x $  \n",
    "  \n",
    "  $$\n",
    "  u_{c,0}\n",
    "  $$\n",
    "  \n",
    "1. Find a $ \\Phi $ that satisfies  \n",
    "  \n",
    "  $$\n",
    "  u_{c,0} b_0 = u_{c,0} (n_0 - g_0) - u_{l,0} n_0  + \\beta \\sum_{s=1}^S \\Pi(s | s_0) x(s) \\tag{1}\n",
    "  $$\n",
    "  \n",
    "  by gradually raising $ \\Phi $ if the left side of [(1)](#equation-bellman2cons)\n",
    "  exceeds the right side and lowering $ \\Phi $ if the left side is less than the right side  \n",
    "1. After computing a Ramsey allocation,  recover the flat tax rate on\n",
    "  labor.  "
   ]
  },
  {
   "cell_type": "markdown",
   "metadata": {},
   "source": [
    "## Complex Lists with Code Blocks\n",
    "\n",
    "- foo, and then in your REPL run  "
   ]
  },
  {
   "cell_type": "markdown",
   "metadata": {
    "hide-output": false
   },
   "source": [
    "```julia\n",
    "@assert x == 2\n",
    "```\n"
   ]
  },
  {
   "cell_type": "markdown",
   "metadata": {},
   "source": [
    "\n",
    "- and another item in the list. Hopefully this list item can be continued in the next markdown block in the notebook  \n",
    "  \n",
    "  - and a sublist looks like this  \n",
    "  - second elements  \n",
    "  \n",
    "\n",
    "\n",
    "**Note:** This doesn’t work well with enumerated lists as the markdown engine will start a new\n",
    "list in the subsequent markdown cells (within Jupyter). So when you have mixed code blocks in lists\n",
    "then it is best to use unordered lists."
   ]
  }
 ],
 "metadata": {
  "filename": "lists.rst",
  "kernelspec": {
   "display_name": "Python",
   "language": "python3",
   "name": "python3"
  },
  "title": "List"
 },
 "nbformat": 4,
 "nbformat_minor": 2
}