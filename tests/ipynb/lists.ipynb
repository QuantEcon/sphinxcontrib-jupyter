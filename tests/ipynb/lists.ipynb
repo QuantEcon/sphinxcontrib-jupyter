{
 "cells": [
  {
   "cell_type": "markdown",
   "metadata": {},
   "source": [
    "# List"
   ]
  },
  {
   "cell_type": "markdown",
   "metadata": {},
   "source": [
    "# Basic Lists"
   ]
  },
  {
   "cell_type": "markdown",
   "metadata": {},
   "source": [
    "## Bullets\n",
    "\n",
    "- b1  \n",
    "- b2  \n",
    "- b3  "
   ]
  },
  {
   "cell_type": "markdown",
   "metadata": {},
   "source": [
    "## Bullets\n",
    "\n",
    "- b1  \n",
    "- b2  \n",
    "- b3  "
   ]
  },
  {
   "cell_type": "markdown",
   "metadata": {},
   "source": [
    "## List\n",
    "\n",
    "1. l1  \n",
    "1. l2  \n",
    "1. l3  "
   ]
  },
  {
   "cell_type": "markdown",
   "metadata": {},
   "source": [
    "## Numbered\n",
    "\n",
    "1. a numbered list  \n",
    "1. and a second item  \n",
    "1. and a third item  "
   ]
  },
  {
   "cell_type": "markdown",
   "metadata": {},
   "source": [
    "# Nested Lists"
   ]
  },
  {
   "cell_type": "markdown",
   "metadata": {},
   "source": [
    "## Bullets\n",
    "\n",
    "- b1  \n",
    " - c1  \n",
    " - c2  \n",
    "- b2  \n",
    " - d1  \n",
    " - d2  \n",
    "- b3  "
   ]
  },
  {
   "cell_type": "markdown",
   "metadata": {},
   "source": [
    "## Bullets\n",
    "\n",
    "- this is  \n",
    "- a list  \n",
    " - with a nested list  \n",
    " - and some subitems  \n",
    "- and here the parent list continues  "
   ]
  },
  {
   "cell_type": "markdown",
   "metadata": {},
   "source": [
    "## Malformed Lists that seem to work in HTML\n",
    "\n",
    "- first item  \n",
    "- second item  \n",
    " \n",
    "     - a sub item that is spaced with four spaces rather than two  "
   ]
  }
 ],
 "metadata": {
  "kernelspec": {
   "display_name": "Python",
   "language": "python3",
   "name": "python3"
  }
 },
 "nbformat": 4,
 "nbformat_minor": 2
}