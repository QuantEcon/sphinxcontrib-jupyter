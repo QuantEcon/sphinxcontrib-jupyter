{
 "cells": [
  {
   "cell_type": "markdown",
   "metadata": {},
   "source": [
    "$$\n",
    "\\def\\CC{\\bf C}\n",
    "\\def\\QQ{\\bf Q}\n",
    "\\def\\RR{\\bf R}\n",
    "\\def\\ZZ{\\bf Z}\n",
    "\\def\\NN{\\bf N}\n",
    "$$\n",
    "# Code blocks"
   ]
  },
  {
   "cell_type": "code",
   "execution_count": null,
   "metadata": {},
   "outputs": [],
   "source": [
    "this = 'is a code block'\n",
    "x = 1\n",
    "no = 'really!'\n",
    "p = argwhere(x == 2)"
   ]
  },
  {
   "cell_type": "code",
   "execution_count": null,
   "metadata": {},
   "outputs": [],
   "source": [
    "from pylab import linspace\n",
    "t = linspace(0, 1)\n",
    "x = t**2"
   ]
  },
  {
   "cell_type": "code",
   "execution_count": null,
   "metadata": {},
   "outputs": [],
   "source": [
    "from pylab import *\n",
    "x = logspace(0, 1)\n",
    "y = x**2\n",
    "figure()\n",
    "plot(x, y)\n",
    "show()"
   ]
  },
  {
   "cell_type": "markdown",
   "metadata": {},
   "source": [
    "Support for Python doctest code blocks:"
   ]
  },
  {
   "cell_type": "code",
   "execution_count": null,
   "metadata": {},
   "outputs": [
    {
     "data": {
      "text/plain": [
       "2"
      ]
     },
     "execution_count": 1,
     "metadata": {},
     "output_type": "execute_result"
    }
   ],
   "source": [
    "1+1"
   ]
  },
  {
   "cell_type": "code",
   "execution_count": null,
   "metadata": {},
   "outputs": [
    {
     "data": {
      "text/plain": [
       "0\n",
       "1\n",
       "2"
      ]
     },
     "execution_count": 1,
     "metadata": {},
     "output_type": "execute_result"
    }
   ],
   "source": [
    "for x in range(3):\n",
    "     print x"
   ]
  },
  {
   "cell_type": "code",
   "execution_count": null,
   "metadata": {},
   "outputs": [],
   "source": [
    "x = 1\n",
    "x = 2"
   ]
  },
  {
   "cell_type": "markdown",
   "metadata": {},
   "source": [
    "Function with pycon code block style:"
   ]
  },
  {
   "cell_type": "code",
   "execution_count": null,
   "metadata": {},
   "outputs": [
    {
     "data": {
      "text/plain": [
       "6"
      ]
     },
     "execution_count": 1,
     "metadata": {},
     "output_type": "execute_result"
    }
   ],
   "source": [
    "def f(a, b, c):\n",
    "    \"\"\"Multiline\n",
    "    docstring\n",
    "\n",
    "    \"\"\"\n",
    "    # a comment\n",
    "\n",
    "    return a + b + c\n",
    "\n",
    "f(1, 2, 3)"
   ]
  },
  {
   "cell_type": "markdown",
   "metadata": {},
   "source": [
    "Long Pandas DataFrame's with more than three digits in the index column will have a `...` in the output which shouldn't be considered a Python line continuation prompt:"
   ]
  },
  {
   "cell_type": "code",
   "execution_count": null,
   "metadata": {},
   "outputs": [
    {
     "data": {
      "text/plain": [
       "            b\n",
       "0.00000     0\n",
       "0.01001     1\n",
       "0.02002     2\n",
       "0.03003     3\n",
       "0.04004     4\n",
       "0.05005     5\n",
       "0.06006     6\n",
       "0.07007     7\n",
       "0.08008     8\n",
       "0.09009     9\n",
       "0.10010    10\n",
       "0.11011    11\n",
       "0.12012    12\n",
       "0.13013    13\n",
       "0.14014    14\n",
       "0.15015    15\n",
       "0.16016    16\n",
       "0.17017    17\n",
       "0.18018    18\n",
       "0.19019    19\n",
       "0.20020    20\n",
       "0.21021    21\n",
       "0.22022    22\n",
       "0.23023    23\n",
       "0.24024    24\n",
       "0.25025    25\n",
       "0.26026    26\n",
       "0.27027    27\n",
       "0.28028    28\n",
       "0.29029    29\n",
       "...       ...\n",
       "9.70971   970\n",
       "9.71972   971\n",
       "9.72973   972\n",
       "9.73974   973\n",
       "9.74975   974\n",
       "9.75976   975\n",
       "9.76977   976\n",
       "9.77978   977\n",
       "9.78979   978\n",
       "9.79980   979\n",
       "9.80981   980\n",
       "9.81982   981\n",
       "9.82983   982\n",
       "9.83984   983\n",
       "9.84985   984\n",
       "9.85986   985\n",
       "9.86987   986\n",
       "9.87988   987\n",
       "9.88989   988\n",
       "9.89990   989\n",
       "9.90991   990\n",
       "9.91992   991\n",
       "9.92993   992\n",
       "9.93994   993\n",
       "9.94995   994\n",
       "9.95996   995\n",
       "9.96997   996\n",
       "9.97998   997\n",
       "9.98999   998\n",
       "10.00000  999\n",
       "\n",
       "[1000 rows x 1 columns]"
      ]
     },
     "execution_count": 1,
     "metadata": {},
     "output_type": "execute_result"
    }
   ],
   "source": [
    "import pandas as pd\n",
    "pd.DataFrame({'b': pd.np.arange(1000)}, index=pd.np.linspace(0, 10, 1000))"
   ]
  }
 ],
 "metadata": {},
 "nbformat": 4,
 "nbformat_minor": 2
}
