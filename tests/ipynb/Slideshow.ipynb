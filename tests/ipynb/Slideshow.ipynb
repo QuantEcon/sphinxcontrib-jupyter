{
 "cells": [
  {
   "cell_type": "markdown",
   "metadata": {},
   "source": [
    "# Tool bar activated\n",
    "\n",
    "This is a collection of different types of cells where the toolbar: Slideshow has been activated\n",
    "\n",
    "#.. jupyter::\n",
    "#       :cell-break:\n",
    "\n",
    "The idea is that eventually we will assign a type (*Slide*, *Sub-Slide*, *skip*, *flag*) for each one. We used our **jupyter** directive  (not merged into the master yet) to break the markdown cell into two different cells."
   ]
  },
  {
   "cell_type": "markdown",
   "metadata": {},
   "source": [
    "## Code"
   ]
  },
  {
   "cell_type": "code",
   "execution_count": null,
   "metadata": {},
   "outputs": [],
   "source": [
    "import numpy as np\n",
    "\n",
    "x = np.linspace(0, 1, 5)\n",
    "y = np.sin(4 * np.pi * x) * np.exp(-5 * x)\n",
    "\n",
    "print(y)"
   ]
  },
  {
   "cell_type": "markdown",
   "metadata": {},
   "source": [
    "## Math\n",
    "\n",
    "The previous function was\n",
    "\n",
    "$$\n",
    "f(x)=\\sin(4\\pi x)e^{-5x}\n",
    "$$\n",
    "\n",
    "#.. jupyter::\n",
    "#       :cell-break:\n",
    "\n",
    "We can also include the figures from some folder\n",
    "\n",
    "<img src=\"_static/hood.jpg\" style=\"\">"
   ]
  }
 ],
 "metadata": {
  "celltoolbar": "Slideshow",
  "kernelspec": {
   "display_name": "Python",
   "language": "python3",
   "name": "python3"
  }
 },
 "nbformat": 4,
 "nbformat_minor": 2
}