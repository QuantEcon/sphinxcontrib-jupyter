{
 "cells": [
  {
   "cell_type": "markdown",
   "metadata": {},
   "source": [
    "# Rubric\n",
    "\n",
    "Define the government’s one-period loss function <sup>[1](#f1)</sup>\n",
    "\n",
    "\n",
    "<a id='equation-target'></a>\n",
    "<table width=100%><tr style='background-color: #FFFFFF !important;'>\n",
    "<td width=10%></td>\n",
    "<td width=80%>\n",
    "<div style = 'font-size: 125%;' >\n",
    "$$\n",
    "r(y, u)  =  y' R y  + u' Q u\n",
    "$$\n",
    "</div>\n",
    "</td>\n",
    "<td width=10% style='text-align:center !important;'>\n",
    "</div>\n",
    "(1)\n",
    "</td></tr></table>\n",
    "\n",
    "History dependence has two sources: (a) the government’s ability to commit <sup>[2](#f2)</sup> to a sequence of rules at time $ 0 $"
   ]
  },
  {
   "cell_type": "markdown",
   "metadata": {},
   "source": [
    "**Footnotes**\n",
    "\n",
    "<a id='f1'></a>\n",
    "**[1]** The problem assumes that there are no cross products between states and controls in the return function.  A simple transformation  converts a problem whose return function has cross products into an equivalent problem that has no cross products.\n",
    "\n",
    "<a id='f2'></a>\n",
    "**[2]** The government would make different choices were it to choose sequentially, that is,  were it to select its time $ t $ action at time $ t $."
   ]
  }
 ],
 "metadata": {
  "filename": "footnotes.rst",
  "kernelspec": {
   "display_name": "Python",
   "language": "python3",
   "name": "python3"
  },
  "title": "Rubric"
 },
 "nbformat": 4,
 "nbformat_minor": 2
}