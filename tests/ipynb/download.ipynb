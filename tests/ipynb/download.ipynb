{
 "cells": [
  {
   "cell_type": "markdown",
   "metadata": {
    "slideshow": {
     "slide_type": "slide"
    }
   },
   "source": [
    "# Download\n",
    "\n",
    "Add test for download directive <a href=_static/test_pwt.csv download>here</a>"
   ]
  }
 ],
 "metadata": {
  "celltoolbar": "Slideshow",
  "filename": "download.rst",
  "kernelspec": {
   "display_name": "Python",
   "language": "python3",
   "name": "python3"
  },
  "title": "Download"
 },
 "nbformat": 4,
 "nbformat_minor": 2
}