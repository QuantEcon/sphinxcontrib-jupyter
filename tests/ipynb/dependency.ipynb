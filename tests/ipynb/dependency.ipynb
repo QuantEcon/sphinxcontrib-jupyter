{
 "cells": [
  {
   "cell_type": "markdown",
   "metadata": {},
   "source": [
    "# dependency\n",
    "\n",
    "This example should copy the file specified in the dependency directive\n",
    "\n",
    "and copy the file to the same location as the notebook\n",
    "\n",
    "this is useful for adding data and support files for notebook execution\n",
    "\n",
    "In the future it would be good to implement this as cell attachments"
   ]
  }
 ],
 "metadata": {
  "filename": "dependency.rst",
  "kernelspec": {
   "display_name": "Python",
   "language": "python3",
   "name": "python3"
  },
  "title": "dependency"
 },
 "nbformat": 4,
 "nbformat_minor": 2
}