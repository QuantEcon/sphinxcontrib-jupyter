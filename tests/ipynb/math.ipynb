{
 "cells": [
  {
   "cell_type": "markdown",
   "metadata": {},
   "source": [
    "# Math\n",
    "\n",
    "Inline maths with inline role: $ x^3+\\frac{1+\\sqrt{2}}{\\pi} $\n",
    "\n",
    "Inline maths using dollar signs (not supported yet): $x^3+frac{1+sqrt{2}}{pi}$ as the\n",
    "backslashes are removed.\n",
    "\n",
    "$$\n",
    "x^3+\\frac{1+\\sqrt{2}}{\\pi}\n",
    "$$\n",
    "\n",
    "check math with some more advanced LaTeX, previously reported as an issue.\n",
    "\n",
    "$$\n",
    "\\mathbb P\\{z = v \\mid x \\}\n",
    "= \\begin{cases}\n",
    "    f_0(v) & \\mbox{if } x = x_0, \\\\\n",
    "    f_1(v) & \\mbox{if } x = x_1\n",
    "\\end{cases}\n",
    "$$\n",
    "\n",
    "and labeled test cases\n",
    "\n",
    "\n",
    "<a id='equation-firsteq'></a>\n",
    "<table width=100%><tr style='background-color: #FFFFFF !important;'>\n",
    "<td width=10%></td>\n",
    "<td width=80%>\n",
    "$$\n",
    "\\mathbb P\\{z = v \\mid x \\}\n",
    " = \\begin{cases}\n",
    "     f_0(v) & \\mbox{if } x = x_0, \\\\\n",
    "     f_1(v) & \\mbox{if } x = x_1\n",
    " \\end{cases}\n",
    "$$\n",
    "</td><td width=10% style='text-align:center !important;'>\n",
    "(1)\n",
    "</td></tr></table>"
   ]
  },
  {
   "cell_type": "markdown",
   "metadata": {},
   "source": [
    "# Further Inline\n",
    "\n",
    "A continuation Ramsey planner at $ t \\geq 1 $ takes\n",
    "$ (x_{t-1}, s_{t-1}) = (x_-, s_-) $ as given and before\n",
    "$ s $ is realized chooses\n",
    "$ (n_t(s_t), x_t(s_t)) = (n(s), x(s)) $ for $ s \\in  {\\cal S} $"
   ]
  }
 ],
 "metadata": {
  "kernelspec": {
   "display_name": "Python",
   "language": "python3",
   "name": "python3"
  }
 },
 "nbformat": 4,
 "nbformat_minor": 2
}