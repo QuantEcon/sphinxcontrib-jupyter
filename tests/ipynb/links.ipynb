{
 "cells": [
  {
   "cell_type": "markdown",
   "metadata": {},
   "source": [
    "\n",
    "<a id='links'></a>"
   ]
  },
  {
   "cell_type": "markdown",
   "metadata": {},
   "source": [
    "# Links\n",
    "\n",
    "Links are generated as markdown references to jump between notebooks and\n",
    "the sphinx link machinery is employed to track links across documents.\n",
    "\n",
    "An external link to another [notebook (as full file)](links_target.ipynb)\n",
    "\n",
    "This is a paragraph that contains [a google hyperlink](https://google.com.au).\n",
    "\n",
    "- An inline reference to [another document](links_target.ipynb#links-target)  "
   ]
  }
 ],
 "metadata": {
  "kernelspec": {
   "display_name": "Python",
   "language": "python3",
   "name": "python3"
  }
 },
 "nbformat": 4,
 "nbformat_minor": 2
}