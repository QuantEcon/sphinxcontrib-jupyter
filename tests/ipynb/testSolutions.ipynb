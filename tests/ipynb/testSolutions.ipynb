{
 "cells": [
  {
   "cell_type": "markdown",
   "metadata": {},
   "source": [
    "Notebook created: 2018-08-21 16:04:49  \n",
    "Generated from: Try/testSolutions.rst  "
   ]
  },
  {
   "cell_type": "markdown",
   "metadata": {},
   "source": [
    "# Notebook without solutions\n",
    "\n",
    "The idea is with the use of classes, we can  decide whether to show or not the solutions\n",
    "of a particular lecture, creating two different types of jupyter notebooks. For now it only\n",
    "works with *code blocks*, you have to include **:class: solution**, and set in  the conf.py file\n",
    "*jupyter_drop_solutions=True*.\n",
    "\n",
    "Here is a small example"
   ]
  },
  {
   "cell_type": "markdown",
   "metadata": {},
   "source": [
    "## Question 1\n",
    "\n",
    "Plot the area under the curve\n",
    "\n",
    "$$\n",
    "f(x)=\\sin(4\\pi x) exp(-5x)\n",
    "$$\n",
    "\n",
    "when $ x \\in [0,1] $"
   ]
  }
 ],
 "metadata": {
  "kernelspec": {
   "display_name": "Python 3",
   "language": "python",
   "name": "python3"
  },
  "language_info": {
   "codemirror_mode": {
    "name": "ipython",
    "version": 3
   },
   "file_extension": ".py",
   "mimetype": "text/x-python",
   "name": "python",
   "nbconvert_exporter": "python",
   "pygments_lexer": "ipython3",
   "version": "3.6.5"
  }
 },
 "nbformat": 4,
 "nbformat_minor": 2
}
