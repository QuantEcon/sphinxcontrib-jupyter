{
 "cells": [
  {
   "cell_type": "markdown",
   "metadata": {},
   "source": [
    "# Code Synonyms\n",
    "\n",
    "This is useful for when you want to highlight two languages such as `python` and `ipython`\n",
    "syntax but want each to be executable within the same document.\n",
    "\n",
    "This can be done in the `conf.py` file through the `jupyter_lang_synonyms = [\"ipython\"]` option"
   ]
  },
  {
   "cell_type": "code",
   "execution_count": null,
   "metadata": {},
   "outputs": [],
   "source": [
    "import numpy as np\n",
    "a = np.random.rand(10000)"
   ]
  },
  {
   "cell_type": "markdown",
   "metadata": {},
   "source": [
    "and now an ipython block"
   ]
  },
  {
   "cell_type": "code",
   "execution_count": null,
   "metadata": {},
   "outputs": [],
   "source": [
    "%%file us_cities.txt\n",
    "new york: 8244910\n",
    "los angeles: 3819702\n",
    "chicago: 2707120\n",
    "houston: 2145146\n",
    "philadelphia: 1536471\n",
    "phoenix: 1469471\n",
    "san antonio: 1359758\n",
    "san diego: 1326179\n",
    "dallas: 1223229"
   ]
  },
  {
   "cell_type": "markdown",
   "metadata": {},
   "source": [
    "this will generate a file `us_cities.txt` in the local directory using an ipython\n",
    "cellmagic"
   ]
  }
 ],
 "metadata": {
  "filename": "code_synonyms.rst",
  "kernelspec": {
   "display_name": "Python",
   "language": "python3",
   "name": "python3"
  },
  "title": "Code Synonyms"
 },
 "nbformat": 4,
 "nbformat_minor": 2
}