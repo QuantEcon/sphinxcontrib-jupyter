{
 "cells": [
  {
   "cell_type": "markdown",
   "metadata": {},
   "source": [
    "<a id='test1458'></a>\n",
    "\\[Joo28\\] Anju Joon. Zur theorie der gesellschaftsspiele. *Mathematische annalen*, 100(1):295–320, 1928."
   ]
  }
 ],
 "metadata": {
  "filename": "references.rst",
  "kernelspec": {
   "display_name": "Python",
   "language": "python3",
   "name": "python3"
  },
  "title": "References"
 },
 "nbformat": 4,
 "nbformat_minor": 2
}