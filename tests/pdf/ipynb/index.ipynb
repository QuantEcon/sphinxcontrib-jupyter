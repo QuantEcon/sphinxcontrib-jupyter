{
 "cells": [
  {
   "cell_type": "markdown",
   "metadata": {},
   "source": [
    "# Contents:\n",
    "- [Notation](pdf/pdf.html#notation)\n",
    "- [Model Ingredients and Assumptions (test case for brackets)](pdf/pdf.html#model-ingredients-and-assumptions-test-case-for-brackets)\n",
    "- [Dynamic Interpretation](pdf/pdf.html#dynamic-interpretation)\n",
    "\n",
    "\n",
    "[References](references.ipynb)"
   ]
  }
 ],
 "metadata": {
  "filename": "index.rst",
  "kernelspec": {
   "display_name": "Python",
   "language": "python3",
   "name": "python3"
  },
  "title": "Tests for PDF Pipline"
 },
 "nbformat": 4,
 "nbformat_minor": 2
}