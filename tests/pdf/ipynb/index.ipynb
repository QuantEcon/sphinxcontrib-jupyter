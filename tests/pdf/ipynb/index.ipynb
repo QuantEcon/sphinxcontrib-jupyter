{
 "cells": [
  {
   "cell_type": "markdown",
   "metadata": {},
   "source": [
    "# Tests for PDF Pipline\n",
    "\n",
    "# Contents:\n",
    "- [This is a test file for pdfs (and a Generalization)](pdf.ipynb)\n",
    "  - [Notation](pdf.ipynb#notation)\n",
    "  - [Model Ingredients and Assumptions (test case for brackets)](pdf.ipynb#model-ingredients-and-assumptions-test-case-for-brackets)\n",
    "  - [Dynamic Interpretation](pdf.ipynb#dynamic-interpretation)"
   ]
  }
 ],
 "metadata": {
  "filename": "index.rst",
  "kernelspec": {
   "display_name": "Python",
   "language": "python3",
   "name": "python3"
  },
  "title": "Tests for PDF Pipline"
 },
 "nbformat": 4,
 "nbformat_minor": 2
}